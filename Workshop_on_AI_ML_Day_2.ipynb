{
  "nbformat": 4,
  "nbformat_minor": 0,
  "metadata": {
    "colab": {
      "name": "Workshop_on_AI_ML_Day_2.ipynb",
      "provenance": [],
      "collapsed_sections": [
        "c_aV_20BTCVl"
      ],
      "toc_visible": true,
      "include_colab_link": true
    },
    "kernelspec": {
      "name": "python3",
      "display_name": "Python 3"
    }
  },
  "cells": [
    {
      "cell_type": "markdown",
      "metadata": {
        "id": "view-in-github",
        "colab_type": "text"
      },
      "source": [
        "<a href=\"https://colab.research.google.com/github/princexoleo/workshop_for_python/blob/main/Workshop_on_AI_ML_Day_2.ipynb\" target=\"_parent\"><img src=\"https://colab.research.google.com/assets/colab-badge.svg\" alt=\"Open In Colab\"/></a>"
      ]
    },
    {
      "cell_type": "markdown",
      "source": [
        "# Workshop on 'Python for AI/ML' <br>\n",
        "\n",
        "Instructed by **Mazharul Islam Leon** <br>\n",
        "Organized by UIU APP FORUM"
      ],
      "metadata": {
        "id": "0UdZzIl6xFIG"
      }
    },
    {
      "cell_type": "markdown",
      "source": [
        "# What is Python <br>\n",
        "Python is a popular programming language. It was created in 1991 by Guido van Rossum.\n",
        "<br> <br>\n",
        "\n",
        "Python is an easy to learn, powerful programming language. It has efficient high level data structures and a simple but effective approach object-oriented programming.\n",
        "\n",
        "<br>\n",
        "Python's elegant syntax and dynamic typing, together with its interpreted nature, make it an ideal language for scripting and rapid application development in many areas on most platform.\n",
        "\n",
        "<br>\n",
        "It is used for <br>\n",
        "\n",
        "\n",
        "\n",
        "*   Web development\n",
        "*   Software Development\n",
        "*   Mathematic Operations\n",
        "*   Game Development\n",
        "*   Data Science\n",
        "*   Machine Learning\n",
        "*   Rsearch works\n",
        "\n"
      ],
      "metadata": {
        "id": "MdDfUK_4yS9z"
      }
    },
    {
      "cell_type": "markdown",
      "metadata": {
        "id": "S4sqgpiMKnFX"
      },
      "source": [
        "# Python Learning Beginners\n",
        "\n",
        "\n",
        "1.   Hello world\n",
        "2.   Operators\n",
        "1.   Data type\n",
        "2.   Control Flow\n",
        "1.   Functions\n",
        "2.   Classes\n",
        "1.   Modules\n",
        "1.   Files\n",
        "\n",
        "\n",
        "\n",
        "\n",
        "\n",
        "\n",
        "\n",
        "\n",
        "\n",
        "\n"
      ]
    },
    {
      "cell_type": "markdown",
      "metadata": {
        "id": "C8nxiFqUJxS-"
      },
      "source": [
        "## Hello world\n",
        "Write a programe to print Hello world in Python Programming language\n"
      ]
    },
    {
      "cell_type": "code",
      "source": [
        "# Just write as you speak\n",
        "\n",
        "print(\"Hello World\")\n",
        "\n",
        "print(\"Welcome To Everyone\")\n",
        "\n",
        "# it will show an output such as Hello World"
      ],
      "metadata": {
        "colab": {
          "base_uri": "https://localhost:8080/"
        },
        "id": "tAUZ6UrWxdD2",
        "outputId": "80e5f496-fe87-4d68-bd94-306f70e4c553"
      },
      "execution_count": null,
      "outputs": [
        {
          "output_type": "stream",
          "name": "stdout",
          "text": [
            "Hello World\n",
            "Welcome To Everyone\n"
          ]
        }
      ]
    },
    {
      "cell_type": "markdown",
      "metadata": {
        "id": "rYWf1mMPKP8f"
      },
      "source": [
        "###Take input from console"
      ]
    },
    {
      "cell_type": "code",
      "metadata": {
        "id": "R97RoQg-Kvvl",
        "outputId": "78ad070c-e2f4-4e4a-a0f1-9524c1ec9be6",
        "colab": {
          "base_uri": "https://localhost:8080/"
        }
      },
      "source": [
        "# print hello world\n",
        "print(\"Hello world\")  # output: Hello world\n",
        "# Take user input and print it\n",
        "name = input(\"Enter your name : \")  # a console will promt up for input\n",
        "\n",
        "# print(f\"Hey {name}, welcome to the workshop\")\n",
        "print(name)"
      ],
      "execution_count": null,
      "outputs": [
        {
          "output_type": "stream",
          "name": "stdout",
          "text": [
            "Hello world\n",
            "Enter your name : Leon\n",
            "Leon\n"
          ]
        }
      ]
    },
    {
      "cell_type": "code",
      "source": [
        "# type\n",
        "print(type(name))"
      ],
      "metadata": {
        "colab": {
          "base_uri": "https://localhost:8080/"
        },
        "id": "5yugxVZckoSM",
        "outputId": "fb0a87e5-380f-437a-8939-abdcbc052cd9"
      },
      "execution_count": null,
      "outputs": [
        {
          "output_type": "stream",
          "name": "stdout",
          "text": [
            "<class 'str'>\n"
          ]
        }
      ]
    },
    {
      "cell_type": "markdown",
      "source": [
        "## Variable"
      ],
      "metadata": {
        "id": "OxEn-sK3p1BU"
      }
    },
    {
      "cell_type": "code",
      "source": [
        "# define variable and value\n",
        "# variable_names = assiagn value\n",
        "\n",
        "\n",
        "a = 10\n",
        "b = 20\n",
        "print(a)\n",
        "print(b)\n",
        "\n",
        "# another variable\n",
        "my_var = \"This is my variable\"\n",
        "print(my_var)"
      ],
      "metadata": {
        "colab": {
          "base_uri": "https://localhost:8080/"
        },
        "id": "IZ8BQKBVp3fP",
        "outputId": "28bc3d8b-8aa2-4208-8812-6e41e9125c4d"
      },
      "execution_count": null,
      "outputs": [
        {
          "output_type": "stream",
          "name": "stdout",
          "text": [
            "10\n",
            "20\n",
            "This is my variable\n"
          ]
        }
      ]
    },
    {
      "cell_type": "markdown",
      "source": [
        "##Operators\n",
        "\n",
        "\n",
        "*   Arithmetic operators\n",
        "*   Assignment Operators\n",
        "*   Logical operators\n",
        "*   Comparison operators\n",
        "*   Identity operators\n",
        "\n",
        "Operators are used to perform operations on variables and values.\n"
      ],
      "metadata": {
        "id": "3Mp4TvZL0roK"
      }
    },
    {
      "cell_type": "markdown",
      "metadata": {
        "id": "RVl8BAVvRNTL"
      },
      "source": [
        "###Numeric Operators\n",
        "Numeric Data Types"
      ]
    },
    {
      "cell_type": "markdown",
      "metadata": {
        "id": "PHTNBZwaH8E5"
      },
      "source": [
        "### Arithmetic Operators\n",
        "Arithmetic operators are used with numeric values to perform common mathematical operations:"
      ]
    },
    {
      "cell_type": "code",
      "source": [
        "temp = 0\n",
        "print(temp)"
      ],
      "metadata": {
        "colab": {
          "base_uri": "https://localhost:8080/"
        },
        "id": "v_ZUynDPldZC",
        "outputId": "30651225-8b85-4ae7-e0bf-8a653ce673d9"
      },
      "execution_count": null,
      "outputs": [
        {
          "output_type": "stream",
          "name": "stdout",
          "text": [
            "0\n"
          ]
        }
      ]
    },
    {
      "cell_type": "code",
      "metadata": {
        "id": "CrAQdHY3HZ-q",
        "outputId": "d4c1cec4-d8ff-4ee5-c7fe-30a819ab19b2",
        "colab": {
          "base_uri": "https://localhost:8080/"
        }
      },
      "source": [
        "#x, y = 5, 30\n",
        "x = 30\n",
        "y = 5\n",
        "print(x, y)\n",
        "print('x + y =',x + y)\n",
        "print('x - y =',x - y)\n",
        "print('x * y =',x * y)\n",
        "print('x / y =',x / y)\n",
        "print('x ** y =',x ** y) # Exponential\n",
        "print('x % y =',x % y)\n",
        "print('x // y =',x // y) # Floor division"
      ],
      "execution_count": null,
      "outputs": [
        {
          "output_type": "stream",
          "name": "stdout",
          "text": [
            "30 5\n",
            "x + y = 35\n",
            "x - y = 25\n",
            "x * y = 150\n",
            "x / y = 6.0\n",
            "x ** y = 24300000\n",
            "x % y = 0\n",
            "x // y = 6\n"
          ]
        }
      ]
    },
    {
      "cell_type": "code",
      "source": [
        "print(\"XYZ\")"
      ],
      "metadata": {
        "colab": {
          "base_uri": "https://localhost:8080/"
        },
        "id": "77xHxbCkmTVc",
        "outputId": "40b8947e-c80d-4222-a8e3-aa2ad43f93cb"
      },
      "execution_count": null,
      "outputs": [
        {
          "output_type": "stream",
          "name": "stdout",
          "text": [
            "XYZ\n"
          ]
        }
      ]
    },
    {
      "cell_type": "code",
      "source": [
        "print('XYZ')"
      ],
      "metadata": {
        "colab": {
          "base_uri": "https://localhost:8080/"
        },
        "id": "VP5AUY5-mmif",
        "outputId": "538274b5-7546-4a3c-de9e-0a5ea74b61ec"
      },
      "execution_count": null,
      "outputs": [
        {
          "output_type": "stream",
          "name": "stdout",
          "text": [
            "XYZ\n"
          ]
        }
      ]
    },
    {
      "cell_type": "code",
      "source": [
        "print(\"Hey what's up \")"
      ],
      "metadata": {
        "colab": {
          "base_uri": "https://localhost:8080/"
        },
        "id": "jfO2JEwUmqob",
        "outputId": "6769078f-d40d-4e8d-a816-c2ed1e976a4f"
      },
      "execution_count": null,
      "outputs": [
        {
          "output_type": "stream",
          "name": "stdout",
          "text": [
            " Hey what's up \n"
          ]
        }
      ]
    },
    {
      "cell_type": "code",
      "source": [
        "print(\"\"\"  Hey'' \"\"\" )"
      ],
      "metadata": {
        "colab": {
          "base_uri": "https://localhost:8080/"
        },
        "id": "iv-gCKufm8QP",
        "outputId": "2c990fff-2fc8-418a-be22-e1e98217c8a0"
      },
      "execution_count": null,
      "outputs": [
        {
          "output_type": "stream",
          "name": "stdout",
          "text": [
            "  Hey'' \n"
          ]
        }
      ]
    },
    {
      "cell_type": "code",
      "source": [
        "print(\"X\", \"Y\", \"Z\")"
      ],
      "metadata": {
        "colab": {
          "base_uri": "https://localhost:8080/"
        },
        "id": "lm5LoNxomFtv",
        "outputId": "ea0b3ec9-a170-4616-f040-bc98f3f1cd1f"
      },
      "execution_count": null,
      "outputs": [
        {
          "output_type": "stream",
          "name": "stdout",
          "text": [
            "X Y Z\n"
          ]
        }
      ]
    },
    {
      "cell_type": "code",
      "metadata": {
        "id": "j2Ym86rGRL_Q",
        "outputId": "29a7506d-9f92-408f-c2a2-ed0074fffb20",
        "colab": {
          "base_uri": "https://localhost:8080/"
        }
      },
      "source": [
        "num1 = 6\n",
        "num2 = 5\n",
        "print(num1 + num2)\n",
        "print(num1 - num2)\n",
        "print(num1 * num2)\n",
        "print(num1 / num2)\n",
        "print(num1 ** num2) # power\n",
        "# convert number to string \n",
        "dob = 28\n",
        "print('Your birth date is '+ str(dob))"
      ],
      "execution_count": null,
      "outputs": [
        {
          "output_type": "stream",
          "name": "stdout",
          "text": [
            "11\n",
            "1\n",
            "30\n",
            "1.2\n",
            "7776\n",
            "Your birth date is 28\n"
          ]
        }
      ]
    },
    {
      "cell_type": "markdown",
      "metadata": {
        "id": "9CqXaV7PJaWk"
      },
      "source": [
        "###Assignments Operators\n",
        "Assignment operators are used to assign values to variables:"
      ]
    },
    {
      "cell_type": "code",
      "metadata": {
        "id": "0HYRtKamIZdh",
        "outputId": "8b8fdb8b-0745-4943-cee2-dd01e3ac1dba",
        "colab": {
          "base_uri": "https://localhost:8080/",
          "height": 54
        }
      },
      "source": [
        "x = 10\n",
        "x +=10\n",
        "print('x=x+10: ',x)\n",
        "x-=5\n",
        "print('x=x-5:',x)"
      ],
      "execution_count": null,
      "outputs": [
        {
          "output_type": "stream",
          "text": [
            "x=x+10:  20\n",
            "x=x-5: 15\n"
          ],
          "name": "stdout"
        }
      ]
    },
    {
      "cell_type": "code",
      "source": [
        "i = 10\n",
        "#i++\n",
        "i = i +1\n",
        "print(i)"
      ],
      "metadata": {
        "colab": {
          "base_uri": "https://localhost:8080/"
        },
        "id": "LDVcSmgxnzae",
        "outputId": "5922c797-57c0-40d0-c294-0508e7d5a03f"
      },
      "execution_count": null,
      "outputs": [
        {
          "output_type": "stream",
          "name": "stdout",
          "text": [
            "11\n"
          ]
        }
      ]
    },
    {
      "cell_type": "code",
      "source": [
        "i +=1\n",
        "print(i)"
      ],
      "metadata": {
        "colab": {
          "base_uri": "https://localhost:8080/"
        },
        "id": "ibxO0KAsoY5w",
        "outputId": "d2e6d204-8374-401a-e6dc-b52fb45dd45e"
      },
      "execution_count": null,
      "outputs": [
        {
          "output_type": "stream",
          "name": "stdout",
          "text": [
            "12\n"
          ]
        }
      ]
    },
    {
      "cell_type": "code",
      "source": [
        " i = 10\n",
        " i /=2 # i = i / 2\n",
        "\n",
        " print(i)"
      ],
      "metadata": {
        "colab": {
          "base_uri": "https://localhost:8080/"
        },
        "id": "qUS0lmllo3mP",
        "outputId": "f19d32dd-1d86-4689-9b10-97f47d35fbda"
      },
      "execution_count": null,
      "outputs": [
        {
          "output_type": "stream",
          "name": "stdout",
          "text": [
            "5.0\n"
          ]
        }
      ]
    },
    {
      "cell_type": "markdown",
      "metadata": {
        "id": "TBivnqFcLjHW"
      },
      "source": [
        "###Comparison Operators\n",
        "\n",
        "\n",
        "\n",
        "*   Equal Equal ==\n",
        "*   Not equal !=\n",
        "*   Less<\n",
        "*   Greater >\n",
        "*   Not Less !<\n",
        "*   Not Greater !>\n",
        "*   Less equal <=\n",
        "*   Greater Equal >=\n",
        "\n",
        "\n",
        "\n",
        "\n",
        "\n",
        "\n",
        "\n"
      ]
    },
    {
      "cell_type": "code",
      "metadata": {
        "id": "IEogsH-GLHB9",
        "outputId": "9b1c1fed-7669-4099-86f4-7862a2241e3c",
        "colab": {
          "base_uri": "https://localhost:8080/"
        }
      },
      "source": [
        "x= 10\n",
        "y = 5\n",
        "if x == y:\n",
        "  print('X and Y equal')\n",
        "elif x !=y:\n",
        "  print('X not equal Y')\n",
        "\n",
        "if x<y:\n",
        "  print('X less than Y')\n",
        "elif x > y:\n",
        "  print('X greater than Y')"
      ],
      "execution_count": null,
      "outputs": [
        {
          "output_type": "stream",
          "name": "stdout",
          "text": [
            "X not equal Y\n",
            "X greater than Y\n"
          ]
        }
      ]
    },
    {
      "cell_type": "markdown",
      "metadata": {
        "id": "1Y660oVgNvny"
      },
      "source": [
        "### Logical Operators\n",
        "\n",
        "Logical operators are used to combine conditional statements:\n",
        "\n",
        "\n",
        "*   and\n",
        "*   or\n",
        "*   not\n",
        "\n",
        "\n",
        "\n"
      ]
    },
    {
      "cell_type": "code",
      "source": [
        "x = 10\n",
        "y = 5\n",
        "\n",
        "if (x>0) and (y>0):\n",
        "    print(\"Both are positive number\")\n",
        "else:\n",
        "    print(\"Negative numbers\")"
      ],
      "metadata": {
        "colab": {
          "base_uri": "https://localhost:8080/"
        },
        "id": "4QFYJ9XU2nkt",
        "outputId": "74e86fe1-3979-43ee-d75b-a375b3e49534"
      },
      "execution_count": null,
      "outputs": [
        {
          "output_type": "stream",
          "name": "stdout",
          "text": [
            "Both are positive number\n"
          ]
        }
      ]
    },
    {
      "cell_type": "code",
      "source": [
        "# and\n",
        "# or"
      ],
      "metadata": {
        "id": "vblc0MtUqfZS"
      },
      "execution_count": null,
      "outputs": []
    },
    {
      "cell_type": "markdown",
      "source": [
        "##Data Types\n",
        "\n",
        "* Numbers\n",
        "* String\n",
        "* Lists\n",
        "* Tuple\n",
        "* Sets\n",
        "* Dictionaries\n",
        "* Type Casting\n",
        "\n",
        "We will cover those data types in the below cells."
      ],
      "metadata": {
        "id": "Aewxh1Jv0vRS"
      }
    },
    {
      "cell_type": "markdown",
      "source": [
        "###Numbers : int, float, complex <br>\n",
        "Integers - int - is a whole number, positive or negative without decimals of unlimited length"
      ],
      "metadata": {
        "id": "t6S58fq-mrk_"
      }
    },
    {
      "cell_type": "code",
      "source": [
        "positive_int = 1\n",
        "negative_int = -5\n",
        "big_int = 3565622225887711\n",
        "\n",
        "print(positive_int, type(positive_int))\n",
        "\n",
        "print(negative_int, type(negative_int))\n",
        "\n",
        "print(big_int, type(big_int))"
      ],
      "metadata": {
        "colab": {
          "base_uri": "https://localhost:8080/"
        },
        "id": "ulb8eV0nmqV5",
        "outputId": "0716890e-fd75-4603-bf3e-ee29dda1e6ed"
      },
      "execution_count": null,
      "outputs": [
        {
          "output_type": "stream",
          "name": "stdout",
          "text": [
            "1 <class 'int'>\n",
            "-5 <class 'int'>\n",
            "3565622225887711 <class 'int'>\n"
          ]
        }
      ]
    },
    {
      "cell_type": "markdown",
      "source": [
        "Boolean: Booleans represent the truth values False and True. The two objects representing the values\n",
        "    False and True are the only Boolean objects. The Boolean type is a subtype of the integer type,\n",
        "    and Boolean values behave like the values 0 and 1, respectively, in almost all contexts, the\n",
        "    exception being that when converted to a string, the strings \"False\" or \"True\" are returned,\n",
        "    respectively."
      ],
      "metadata": {
        "id": "-EId7PMUn5Aj"
      }
    },
    {
      "cell_type": "code",
      "source": [
        "true_boolean = True #true\n",
        "false_boolean = False #false\n",
        "\n",
        "\n",
        "print(true_boolean, type(true_boolean))\n",
        "\n",
        "\n",
        "print(false_boolean, type(false_boolean))"
      ],
      "metadata": {
        "colab": {
          "base_uri": "https://localhost:8080/"
        },
        "id": "Ph2yw5Csn4h9",
        "outputId": "18638d26-c395-4ecf-8f3f-d92f32d0eb03"
      },
      "execution_count": null,
      "outputs": [
        {
          "output_type": "stream",
          "name": "stdout",
          "text": [
            "True <class 'bool'>\n",
            "False <class 'bool'>\n"
          ]
        }
      ]
    },
    {
      "cell_type": "code",
      "source": [
        ""
      ],
      "metadata": {
        "id": "f92cpEJsr0lB"
      },
      "execution_count": null,
      "outputs": []
    },
    {
      "cell_type": "markdown",
      "source": [
        "Float: or \"floating point number\" is a number, positive or negative, containing one or more decimals."
      ],
      "metadata": {
        "id": "xT6-eBUToOsu"
      }
    },
    {
      "cell_type": "code",
      "source": [
        "float_number = float(7)\n",
        "float_number = 10.07\n",
        "float_negative = -10.05\n",
        "\n",
        "print(float_number, type(float_number))\n",
        "\n",
        "print(float_negative, type(float_negative))"
      ],
      "metadata": {
        "colab": {
          "base_uri": "https://localhost:8080/"
        },
        "id": "E18rSU9AoOdx",
        "outputId": "2a684a68-ad64-4488-bd03-6fdb5c5f1ebf"
      },
      "execution_count": null,
      "outputs": [
        {
          "output_type": "stream",
          "name": "stdout",
          "text": [
            "10.07 <class 'float'>\n",
            "-10.05 <class 'float'>\n"
          ]
        }
      ]
    },
    {
      "cell_type": "markdown",
      "source": [
        "Complex Type number"
      ],
      "metadata": {
        "id": "GCnX7WwNomjG"
      }
    },
    {
      "cell_type": "code",
      "source": [
        "complex_number_1 = 5 + 6j\n",
        "complex_number_2 = 3 - 2j\n",
        "\n",
        "print(complex_number_1, type(complex_number_1))\n",
        "\n",
        "print(complex_number_2, type(complex_number_2))\n",
        "\n",
        "print(complex_number_1 + complex_number_2 )"
      ],
      "metadata": {
        "colab": {
          "base_uri": "https://localhost:8080/"
        },
        "id": "BDwMf8cYoqGQ",
        "outputId": "71023277-5d96-4ee2-a27e-88d1e1abc058"
      },
      "execution_count": null,
      "outputs": [
        {
          "output_type": "stream",
          "name": "stdout",
          "text": [
            "(5+6j) <class 'complex'>\n",
            "(3-2j) <class 'complex'>\n",
            "(8+4j)\n"
          ]
        }
      ]
    },
    {
      "cell_type": "markdown",
      "source": [
        "###Strings\n",
        "\n",
        "Besides numbers, Python can also manipulate strings, which can be\n",
        "expressed in several ways. They can be enclosed in single quotes ('...')\n",
        "or double quotes (\"...\") with the same result."
      ],
      "metadata": {
        "id": "ajNiQH7Wmtjh"
      }
    },
    {
      "cell_type": "code",
      "source": [
        "\n",
        "# String created with different kinds of quotes\n",
        "name_1 = \"Jhony\"\n",
        "name_2 = 'Deep'\n",
        "\n",
        "print(\"First name:\", name_1)\n",
        "print(type(name_1))\n",
        "\n",
        "print(\"Second name:\", name_2)\n",
        "print(type(name_2))\n",
        "\n",
        "\n",
        "# # If we want to print multiple line in a single print function then\n",
        "print(name_1+'\\n'+name_2)\n",
        "\n",
        "# # If we want to print same line in a single print function then\n",
        "print(name_1+' '+name_2)\n",
        "\n",
        "n = 100.0\n",
        "\n",
        "temp  = name_1+ \" \"+ name_2\n",
        "\n",
        "print(temp)\n"
      ],
      "metadata": {
        "colab": {
          "base_uri": "https://localhost:8080/"
        },
        "id": "n2MC6VbJmqpI",
        "outputId": "4d7d2978-7d39-41c7-c45c-153ebf8221a4"
      },
      "execution_count": null,
      "outputs": [
        {
          "output_type": "stream",
          "name": "stdout",
          "text": [
            "First name: Jhony\n",
            "<class 'str'>\n",
            "Second name: Deep\n",
            "<class 'str'>\n",
            "Jhony\n",
            "Deep\n",
            "Jhony Deep\n",
            "Jhony Deep\n"
          ]
        }
      ]
    },
    {
      "cell_type": "markdown",
      "source": [
        "String can be indexd, with the first character having index 0. There is no seperate character type; a character is simply a string"
      ],
      "metadata": {
        "id": "V91Gda40p6ue"
      }
    },
    {
      "cell_type": "code",
      "source": [
        "word =\"United International University\"\n",
        "print(word[0])\n",
        "print(word[1])\n",
        "print(word[2])\n",
        "\n",
        "\n",
        "\n",
        "# # If you want to print the length of a string\n",
        "print(\"The length of word is: \")\n",
        "temp_len = len(word)\n",
        "print(len(word))\n",
        "print(temp_len)\n",
        "\n",
        "\n",
        "\n",
        "# # Slicing in string index\n",
        "print(word[2:5])\n",
        "# print(word[:10])\n",
        "\n",
        "# print(word[0:])\n",
        "\n",
        "# # negative index number used in slicing\n",
        "# print(word[:-2])\n"
      ],
      "metadata": {
        "colab": {
          "base_uri": "https://localhost:8080/"
        },
        "id": "bi6nBQP2qIfe",
        "outputId": "ed4310b0-a8c6-4b1f-8423-3ccb3540ff3a"
      },
      "execution_count": null,
      "outputs": [
        {
          "output_type": "stream",
          "name": "stdout",
          "text": [
            "U\n",
            "n\n",
            "i\n",
            "The length of word is: \n",
            "31\n",
            "31\n",
            "ite\n"
          ]
        }
      ]
    },
    {
      "cell_type": "code",
      "source": [
        "temp = \"United\""
      ],
      "metadata": {
        "id": "LPN7vGvKvUbd"
      },
      "execution_count": null,
      "outputs": []
    },
    {
      "cell_type": "code",
      "source": [
        "print(temp[:-2])"
      ],
      "metadata": {
        "colab": {
          "base_uri": "https://localhost:8080/"
        },
        "id": "eN98Th2KvP-_",
        "outputId": "52975891-9f41-4f34-e43d-0217973b1333"
      },
      "execution_count": null,
      "outputs": [
        {
          "output_type": "stream",
          "name": "stdout",
          "text": [
            "Unit\n"
          ]
        }
      ]
    },
    {
      "cell_type": "markdown",
      "source": [
        "String Operations"
      ],
      "metadata": {
        "id": "dR0YEZNarKbl"
      }
    },
    {
      "cell_type": "code",
      "source": [
        "# Concat string with the operator +\n",
        "\n",
        "first_name = \"Jhony\"\n",
        "last_name = \"Deep\"\n",
        "\n",
        "full_name = first_name + last_name \n",
        "print(full_name)\n",
        "\n",
        "\n"
      ],
      "metadata": {
        "colab": {
          "base_uri": "https://localhost:8080/"
        },
        "id": "9o73u6NwrMxA",
        "outputId": "dbde4a77-95d1-4ec4-f8a1-7ecaf41aef98"
      },
      "execution_count": null,
      "outputs": [
        {
          "output_type": "stream",
          "name": "stdout",
          "text": [
            "JhonyDeep\n"
          ]
        }
      ]
    },
    {
      "cell_type": "markdown",
      "source": [
        "String lower and upper case operations"
      ],
      "metadata": {
        "id": "iqqZsokNroSD"
      }
    },
    {
      "cell_type": "code",
      "source": [
        "word = \"United International University\"\n",
        "\n",
        "print(word.lower())\n",
        "\n",
        "print(word.upper())"
      ],
      "metadata": {
        "colab": {
          "base_uri": "https://localhost:8080/"
        },
        "id": "23GngcnTrs9C",
        "outputId": "1be3750b-ebc0-4e04-dd15-32818d66bfc7"
      },
      "execution_count": null,
      "outputs": [
        {
          "output_type": "stream",
          "name": "stdout",
          "text": [
            "united international university\n",
            "UNITED INTERNATIONAL UNIVERSITY\n"
          ]
        }
      ]
    },
    {
      "cell_type": "markdown",
      "source": [
        "String replace method"
      ],
      "metadata": {
        "id": "5d5MjJDmr9LN"
      }
    },
    {
      "cell_type": "code",
      "source": [
        "word = \"Hello Hi world\"\n",
        "\n",
        "print(word.replace(\"world\", \"Planet\"))"
      ],
      "metadata": {
        "colab": {
          "base_uri": "https://localhost:8080/"
        },
        "id": "LiRRahf1r_NT",
        "outputId": "435b6052-4340-4bc1-c1bc-c90d11585925"
      },
      "execution_count": null,
      "outputs": [
        {
          "output_type": "stream",
          "name": "stdout",
          "text": [
            "Hello Hi Planet\n"
          ]
        }
      ]
    },
    {
      "cell_type": "markdown",
      "source": [
        "String split method"
      ],
      "metadata": {
        "id": "h9c6ULHvsnTR"
      }
    },
    {
      "cell_type": "code",
      "source": [
        "word  = \"Hello,World, welcome, to the workshop\"\n",
        "\n",
        "print(word.split(\",\"))\n",
        "\n",
        "res = word.split(\",\")\n",
        "print(\"res type: \", type(res))\n",
        "\n",
        "print(res[0])\n",
        "print(res[1])"
      ],
      "metadata": {
        "colab": {
          "base_uri": "https://localhost:8080/"
        },
        "id": "bvdS9RaKspuZ",
        "outputId": "8cdba16a-e7d8-4523-dd8a-b1f2d8ba188a"
      },
      "execution_count": null,
      "outputs": [
        {
          "output_type": "stream",
          "name": "stdout",
          "text": [
            "['Hello', 'World', ' welcome', ' to the workshop']\n",
            "res type:  <class 'list'>\n",
            "Hello\n",
            "World\n"
          ]
        }
      ]
    },
    {
      "cell_type": "code",
      "source": [
        "word = \"Ajke amar mon valo nei\"\n",
        "print(word.count('a'))\n",
        "temp_var = word.count('a')\n",
        "print(temp_var)"
      ],
      "metadata": {
        "colab": {
          "base_uri": "https://localhost:8080/"
        },
        "id": "lW-81MtDtD04",
        "outputId": "3a409b35-8dc0-4117-84f9-077f052cd0b9"
      },
      "execution_count": null,
      "outputs": [
        {
          "output_type": "stream",
          "name": "stdout",
          "text": [
            "3\n",
            "3\n"
          ]
        }
      ]
    },
    {
      "cell_type": "markdown",
      "source": [
        "Sting formatting"
      ],
      "metadata": {
        "id": "N2XdBaVgtU6f"
      }
    },
    {
      "cell_type": "code",
      "source": [
        "yes_votes = 42_572_654  # equivalent of 42572654\n",
        "no_votes = 43_132_495   # equivalent of 43132495\n",
        "percentage = yes_votes / (yes_votes + no_votes)\n",
        "\n",
        "print(percentage)\n",
        "\n",
        "\n",
        "print(f\"Yes vole:{yes_votes}, No votes:{no_votes} and percentage of yes votes: {percentage}\")"
      ],
      "metadata": {
        "colab": {
          "base_uri": "https://localhost:8080/"
        },
        "id": "45iz8OKEtWrg",
        "outputId": "a3128028-b382-4e2f-fece-fd3985978a1d"
      },
      "execution_count": null,
      "outputs": [
        {
          "output_type": "stream",
          "name": "stdout",
          "text": [
            "0.496733912684756\n",
            "Yes vole:42572654, No votes:43132495 and percentage of yes votes: 0.496733912684756\n"
          ]
        }
      ]
    },
    {
      "cell_type": "code",
      "source": [
        "print(\"Number 1:{} Number:{} Number3: {}\".format(10, 20, 30))\n",
        "\n",
        "print(f\"Number 1:{10-2} Number:{20} Number3: {30}\")"
      ],
      "metadata": {
        "colab": {
          "base_uri": "https://localhost:8080/"
        },
        "id": "ak0PwtTdxbP-",
        "outputId": "c2ad15e3-e054-4663-9b2d-36fcfb8b70e3"
      },
      "execution_count": null,
      "outputs": [
        {
          "output_type": "stream",
          "name": "stdout",
          "text": [
            "Number 1:10 Number:20 Number3: 30\n",
            "Number 1:8 Number:20 Number3: 30\n"
          ]
        }
      ]
    },
    {
      "cell_type": "markdown",
      "source": [
        "String count"
      ],
      "metadata": {
        "id": "VIT0KwpStBQx"
      }
    },
    {
      "cell_type": "markdown",
      "source": [
        "### Day 2 "
      ],
      "metadata": {
        "id": "Ll1RFerQqkLI"
      }
    },
    {
      "cell_type": "markdown",
      "metadata": {
        "id": "ycFaBZy-Qvjt"
      },
      "source": [
        "### Lists\n",
        "List is a collection which is ordered and changeable. Allows duplicate members.\n",
        "### Arrays, Index, Negative index, Range index, Negative Range index\n",
        "\n",
        "List method\n",
        "* append() adds an element at the end of the list\n",
        "* clear() Removes all the elements from the list\n",
        "* copy()  Returns a copy of the list\n",
        "* count() Returns the number of elements with the specified value\n",
        "* sort()  Sorts the list\n"
      ]
    },
    {
      "cell_type": "code",
      "source": [
        "colors = ['red', 'blue', 'green']\n",
        "print(colors[0])    ## red\n",
        "print(colors[2])    ## green\n",
        "print(len(colors))  ## 3"
      ],
      "metadata": {
        "colab": {
          "base_uri": "https://localhost:8080/"
        },
        "id": "gHl9muXdZXUU",
        "outputId": "87f8e189-8488-45b6-a824-83e53242157e"
      },
      "execution_count": 72,
      "outputs": [
        {
          "output_type": "stream",
          "name": "stdout",
          "text": [
            "red\n",
            "green\n",
            "3\n"
          ]
        }
      ]
    },
    {
      "cell_type": "markdown",
      "source": [
        "####FOR and IN\n",
        "\n",
        "Python's *for* and *in* constructs are extremely useful, and the first use of them we'll see is with lists. The *for* construct -- for var in list -- is an easy way to look at each element in a list (or other collection). Do not add or remove from the list during iteration."
      ],
      "metadata": {
        "id": "0nX7Bu3pbBz7"
      }
    },
    {
      "cell_type": "markdown",
      "source": [
        "####For"
      ],
      "metadata": {
        "id": "EQrR6O9Naysd"
      }
    },
    {
      "cell_type": "code",
      "source": [
        "squares = [1, 4, 9, 16]\n",
        "sum = 0\n",
        "for num in squares:\n",
        "    print(num)\n",
        "    sum += num\n",
        "    #sum = sum + num\n",
        "#print(sum)  ## 30"
      ],
      "metadata": {
        "colab": {
          "base_uri": "https://localhost:8080/"
        },
        "id": "8czRwCEMaVwK",
        "outputId": "f06566f5-fbfc-4b16-b856-21b023ebaca9"
      },
      "execution_count": 80,
      "outputs": [
        {
          "output_type": "stream",
          "name": "stdout",
          "text": [
            "1\n",
            "4\n",
            "9\n",
            "16\n"
          ]
        }
      ]
    },
    {
      "cell_type": "code",
      "source": [
        "l_len = len(squares)\n",
        "\n",
        "for i in range(l_len):\n",
        "    print(squares[i])"
      ],
      "metadata": {
        "colab": {
          "base_uri": "https://localhost:8080/"
        },
        "id": "8iwUbuhu8SjE",
        "outputId": "be628b5a-eaaa-47f1-8e08-f56377f481f7"
      },
      "execution_count": 81,
      "outputs": [
        {
          "output_type": "stream",
          "name": "stdout",
          "text": [
            "1\n",
            "4\n",
            "9\n",
            "16\n"
          ]
        }
      ]
    },
    {
      "cell_type": "markdown",
      "source": [
        "####IN"
      ],
      "metadata": {
        "id": "LCauy-3ba17t"
      }
    },
    {
      "cell_type": "code",
      "source": [
        "list = ['larry', 'curly', 'moe']\n",
        "if 'curly' in list:\n",
        "    print('yay')"
      ],
      "metadata": {
        "colab": {
          "base_uri": "https://localhost:8080/"
        },
        "id": "mz5iwlOJab2U",
        "outputId": "02a6af69-181c-4a24-fb38-f8edac70ff51"
      },
      "execution_count": 82,
      "outputs": [
        {
          "output_type": "stream",
          "name": "stdout",
          "text": [
            "yay\n"
          ]
        }
      ]
    },
    {
      "cell_type": "markdown",
      "source": [
        "####Range\n",
        "The range(n) function yields the numbers 0, 1, ... n-1, and range(a, b) returns a, a+1, ... b-1 -- up to but not including the last number. The combination of the for-loop and the range() function allow you to build a traditional numeric for loop:"
      ],
      "metadata": {
        "id": "vfSgs9N6apHs"
      }
    },
    {
      "cell_type": "code",
      "source": [
        "## print the numbers from 0 through 99\n",
        "for i in range(5,10):\n",
        "    print(i)"
      ],
      "metadata": {
        "colab": {
          "base_uri": "https://localhost:8080/"
        },
        "id": "dFqTLd1dahLQ",
        "outputId": "657396b8-c19a-4ff9-db9f-0ba3b87cca2b"
      },
      "execution_count": 86,
      "outputs": [
        {
          "output_type": "stream",
          "name": "stdout",
          "text": [
            "5\n",
            "6\n",
            "7\n",
            "8\n",
            "9\n"
          ]
        }
      ]
    },
    {
      "cell_type": "code",
      "source": [
        "for v in range(0, 11, 2):\n",
        "    print(v)"
      ],
      "metadata": {
        "colab": {
          "base_uri": "https://localhost:8080/"
        },
        "id": "wIP4l84i9BZl",
        "outputId": "148972dc-eade-4afc-8a67-7df29b8f5628"
      },
      "execution_count": 84,
      "outputs": [
        {
          "output_type": "stream",
          "name": "stdout",
          "text": [
            "0\n",
            "2\n",
            "4\n",
            "6\n",
            "8\n",
            "10\n"
          ]
        }
      ]
    },
    {
      "cell_type": "markdown",
      "source": [
        "####While Loop"
      ],
      "metadata": {
        "id": "9D_NChFDbH6t"
      }
    },
    {
      "cell_type": "code",
      "source": [
        "## Access every 3rd element in a list\n",
        "i = 0\n",
        "a = [\"A\",\"B\",\"C\",\"D\"]\n",
        "print(len(a))\n",
        "while i < len(a):\n",
        "    print(a[i])\n",
        "    i = i + 1"
      ],
      "metadata": {
        "colab": {
          "base_uri": "https://localhost:8080/"
        },
        "id": "vr8whcwTX8zl",
        "outputId": "025baa2c-44ef-418c-bb5f-7de1ac6ebe7c"
      },
      "execution_count": 87,
      "outputs": [
        {
          "output_type": "stream",
          "name": "stdout",
          "text": [
            "4\n",
            "A\n",
            "B\n",
            "C\n",
            "D\n"
          ]
        }
      ]
    },
    {
      "cell_type": "code",
      "source": [
        ""
      ],
      "metadata": {
        "id": "p96Ad9sEXyFe"
      },
      "execution_count": null,
      "outputs": []
    },
    {
      "cell_type": "code",
      "source": [
        "thislist = ['apple', 'mango', 'banana']\n",
        "\n",
        "print(thislist[-1])\n",
        "\n",
        "thislist[-1] = 'JackFruits'\n",
        "\n",
        "print(thislist)"
      ],
      "metadata": {
        "colab": {
          "base_uri": "https://localhost:8080/"
        },
        "id": "JRednIuJXx3b",
        "outputId": "61677b4b-2abd-4e7d-b11a-cba1b5c7b95a"
      },
      "execution_count": 89,
      "outputs": [
        {
          "output_type": "stream",
          "name": "stdout",
          "text": [
            "banana\n",
            "['apple', 'mango', 'JackFruits']\n"
          ]
        }
      ]
    },
    {
      "cell_type": "code",
      "metadata": {
        "id": "-zCy54MUPsfR",
        "outputId": "4a525364-fa53-4fdf-ce64-db11768ac70f",
        "colab": {
          "base_uri": "https://localhost:8080/",
          "height": 110
        }
      },
      "source": [
        "thislist = ['apple', 'mango', 'banana']\n",
        "print(thislist) # print 'apple', 'mango', 'banana'\n",
        "print(thislist[1]) # print index 1 value mango\n",
        "print(thislist[0:]) # print index 0 to all\n",
        "print(thislist[-1]) # print last index value banana\n",
        "# change value in list\n",
        "thislist[-1] = 'JackFruits' # value change in the last index\n",
        "print(thislist)"
      ],
      "execution_count": null,
      "outputs": [
        {
          "output_type": "stream",
          "text": [
            "['apple', 'mango', 'banana']\n",
            "mango\n",
            "['apple', 'mango', 'banana']\n",
            "banana\n",
            "['apple', 'mango', 'JackFruits']\n"
          ],
          "name": "stdout"
        }
      ]
    },
    {
      "cell_type": "code",
      "source": [
        "thislist"
      ],
      "metadata": {
        "colab": {
          "base_uri": "https://localhost:8080/"
        },
        "id": "oNkjYaG_-HBZ",
        "outputId": "a685cf52-2da3-4e5d-fd01-b949dde59675"
      },
      "execution_count": 90,
      "outputs": [
        {
          "output_type": "execute_result",
          "data": {
            "text/plain": [
              "['apple', 'mango', 'JackFruits']"
            ]
          },
          "metadata": {},
          "execution_count": 90
        }
      ]
    },
    {
      "cell_type": "code",
      "source": [
        "thislist.append(\"Banana\")\n",
        "\n",
        "print(thislist)"
      ],
      "metadata": {
        "colab": {
          "base_uri": "https://localhost:8080/"
        },
        "id": "GnEHsj-L-JXi",
        "outputId": "f3f087cd-404c-4ada-cb45-8f066861d400"
      },
      "execution_count": 91,
      "outputs": [
        {
          "output_type": "stream",
          "name": "stdout",
          "text": [
            "['apple', 'mango', 'JackFruits', 'Banana']\n"
          ]
        }
      ]
    },
    {
      "cell_type": "markdown",
      "metadata": {
        "id": "hjgsQRzjVmQ4"
      },
      "source": [
        "####Remove an item from a lists\n",
        "\n",
        "\n",
        "*  **listname.remove(x)**\n",
        "*  **listname.pop()**[this will remove the last index value of a list]\n",
        "*  **del listname[index]** this will also remove specified index value. \n",
        "   you can also use delete all item in list by using del keyword\n",
        "*  clear a list use **listname.clear()**\n",
        "\n"
      ]
    },
    {
      "cell_type": "code",
      "source": [
        "thislist.remove('mango')\n",
        "print('After removing an item : ', thislist)"
      ],
      "metadata": {
        "colab": {
          "base_uri": "https://localhost:8080/"
        },
        "id": "vmKFsXz8-vMP",
        "outputId": "6f44518f-f6fb-446a-e1df-0eaba68dabe8"
      },
      "execution_count": 92,
      "outputs": [
        {
          "output_type": "stream",
          "name": "stdout",
          "text": [
            "After removing an item :  ['apple', 'JackFruits', 'Banana']\n"
          ]
        }
      ]
    },
    {
      "cell_type": "code",
      "metadata": {
        "id": "S6_n8x73UH4g",
        "outputId": "f0b18faf-ec9a-48ae-e9e1-1e7523fa7853",
        "colab": {
          "base_uri": "https://localhost:8080/",
          "height": 91
        }
      },
      "source": [
        "thislist.remove('mango')\n",
        "print('After removing an item : ', thislist)\n",
        "print(len(thislist))\n",
        "del thislist # thislist will be deteled\n",
        "anotherlist = [1,2,2,3]\n",
        "print('another list: ', anotherlist)\n",
        "anotherlist.clear()\n",
        "print(anotherlist) # print Empty list beacuse list already cleared"
      ],
      "execution_count": null,
      "outputs": [
        {
          "output_type": "stream",
          "text": [
            "After removing an item :  ['apple', 'JackFruits']\n",
            "2\n",
            "another list:  [1, 2, 2, 3]\n",
            "[]\n"
          ],
          "name": "stdout"
        }
      ]
    },
    {
      "cell_type": "markdown",
      "metadata": {
        "id": "1cEWEOuiX96P"
      },
      "source": [
        "#### Join Two List\n",
        "\n",
        "* newList = list1 + list2\n",
        "* iteratively joining\n",
        "* list1.extend(list2) add list2 at the end of list1:"
      ]
    },
    {
      "cell_type": "code",
      "metadata": {
        "id": "kv3RFKPKV1Vs",
        "outputId": "fc0fa477-52b1-442e-e294-39e301cad330",
        "colab": {
          "base_uri": "https://localhost:8080/"
        }
      },
      "source": [
        "list1 =[1,2,3]\n",
        "list2 =[3,4,4,5]\n",
        "list3 = list1 + list2\n",
        "print(list3) # this will print [1, 2, 3, 3, 4, 4, 5]\n",
        "print('Alternative way to join two List:')\n",
        "for x in list2:\n",
        "  list1.append(x)\n",
        "print('New List: ', list1)"
      ],
      "execution_count": 93,
      "outputs": [
        {
          "output_type": "stream",
          "name": "stdout",
          "text": [
            "[1, 2, 3, 3, 4, 4, 5]\n",
            "Alternative way to join two List:\n",
            "New List:  [1, 2, 3, 3, 4, 4, 5]\n"
          ]
        }
      ]
    },
    {
      "cell_type": "code",
      "source": [
        "list1 =[1,2,3]"
      ],
      "metadata": {
        "id": "JOcecRCp_TYP"
      },
      "execution_count": 96,
      "outputs": []
    },
    {
      "cell_type": "code",
      "source": [
        "for x in list2:\n",
        "    print(x)\n",
        "    list1.append(x)\n",
        "\n",
        "print(list1)"
      ],
      "metadata": {
        "colab": {
          "base_uri": "https://localhost:8080/"
        },
        "id": "lGu3RzxT-_WQ",
        "outputId": "3ad04dc1-fd4c-4b61-8909-b54c595483cf"
      },
      "execution_count": 97,
      "outputs": [
        {
          "output_type": "stream",
          "name": "stdout",
          "text": [
            "3\n",
            "4\n",
            "4\n",
            "5\n",
            "[1, 2, 3, 3, 4, 4, 5]\n"
          ]
        }
      ]
    },
    {
      "cell_type": "code",
      "metadata": {
        "id": "VdSup4U7Mkay",
        "outputId": "e07dbf03-f1e6-4008-ae09-980322a875fc",
        "colab": {
          "base_uri": "https://localhost:8080/",
          "height": 54
        }
      },
      "source": [
        "x = 10\n",
        "y = 5\n",
        "if x < 20 and y >= 5:\n",
        "  print('X less than 20 and y greater than 5')\n",
        "\n",
        "if x==10 or y==10:\n",
        "  print('x is 10 ')"
      ],
      "execution_count": null,
      "outputs": [
        {
          "output_type": "stream",
          "text": [
            "X less than 20 and y greater than 5\n",
            "x is 10 \n"
          ],
          "name": "stdout"
        }
      ]
    },
    {
      "cell_type": "code",
      "source": [
        "thislist = ['apple', 'mango', 'banana']\n",
        "print(thislist) # print 'apple', 'mango', 'banana'\n",
        "print(thislist[1]) # print index 1 value mango\n",
        "print(thislist[0:]) # print index 0 to all\n",
        "print(thislist[-1]) # print last index value banana\n",
        "# change value in list\n",
        "thislist[-1] = 'JackFruits' # value change in the last index\n",
        "print(thislist)"
      ],
      "metadata": {
        "colab": {
          "base_uri": "https://localhost:8080/"
        },
        "id": "mbUyVf7kuoOc",
        "outputId": "41c44049-b5a4-42d1-8d3b-cac3f1f3e105"
      },
      "execution_count": null,
      "outputs": [
        {
          "output_type": "stream",
          "name": "stdout",
          "text": [
            "['apple', 'mango', 'banana']\n",
            "mango\n",
            "['apple', 'mango', 'banana']\n",
            "banana\n",
            "['apple', 'mango', 'JackFruits']\n"
          ]
        }
      ]
    },
    {
      "cell_type": "markdown",
      "source": [
        "####More methods in Lists\n",
        "\n",
        "* list.insert(index, elem) - inserts the element at the given index, shifting elements to the right\n",
        "\n",
        "* list.index(elem) - searches for the given element from the start of the list and returns its index. Throws a ValueError if the element doesn't appear.\n",
        "\n",
        "* list.sort() - sorts the list in place (doesn't return it)\n",
        "\n",
        "* list.reverse() - reverse the list in place \n",
        "\n",
        "\n",
        "More you can follow the below link: <br>\n",
        "* https://www.w3schools.com/python/python_ref_list.asp\n",
        "\n",
        "* https://docs.python.org/3/tutorial/datastructures.html"
      ],
      "metadata": {
        "id": "C1imfSa1bsNi"
      }
    },
    {
      "cell_type": "code",
      "source": [
        "sample_list = [1,10,5,7]\n",
        "\n",
        "print(sorted(sample_list))\n",
        "\n",
        "\n",
        "sample_list.sort(reverse=True)\n",
        "print(sample_list)\n",
        "#print(sample_list.sort())"
      ],
      "metadata": {
        "colab": {
          "base_uri": "https://localhost:8080/"
        },
        "id": "rKpp2rhZAbtT",
        "outputId": "7f5947d1-78ae-4008-d979-8584a4f95a0a"
      },
      "execution_count": 103,
      "outputs": [
        {
          "output_type": "stream",
          "name": "stdout",
          "text": [
            "[1, 5, 7, 10]\n",
            "[10, 7, 5, 1]\n"
          ]
        }
      ]
    },
    {
      "cell_type": "markdown",
      "metadata": {
        "id": "EmYT15WWaD-i"
      },
      "source": [
        "### Tuples\n",
        "A tuple is a collection which is ordered and unchangeable. In Python tuples are written with round brackets.\n",
        "Tuple Method\n",
        "* count()  Return the number of times a specified value occurs in a tuple\n",
        "* index()  Searches the tuple for a specified value and return thats position index\n",
        "* Tuple are can not be change or delete because tuple are called immutable in Python"
      ]
    },
    {
      "cell_type": "markdown",
      "metadata": {
        "id": "UCZYfr1Cagwl"
      },
      "source": [
        "####Create a Tuple"
      ]
    },
    {
      "cell_type": "code",
      "metadata": {
        "id": "mRJTbUMEYVYr",
        "outputId": "6a5373ef-d5b9-4ba6-d731-3b4d3fc14f38",
        "colab": {
          "base_uri": "https://localhost:8080/"
        }
      },
      "source": [
        "thisTuple =(\"Leo\", \"Maz\", \"Leon\") # to create tuple we use first bracket ()\n",
        "print(thisTuple)\n",
        "\n",
        "\n",
        "# alernative way to create tuple is tuple() constructor"
      ],
      "execution_count": 104,
      "outputs": [
        {
          "output_type": "stream",
          "name": "stdout",
          "text": [
            "('Leo', 'Maz', 'Leon')\n"
          ]
        }
      ]
    },
    {
      "cell_type": "markdown",
      "source": [
        ""
      ],
      "metadata": {
        "id": "2AooBh-z_7Tw"
      }
    },
    {
      "cell_type": "markdown",
      "source": [
        "####Accessing Tuples"
      ],
      "metadata": {
        "id": "t8O9S1jodZGe"
      }
    },
    {
      "cell_type": "code",
      "source": [
        "print(thisTuple[0])"
      ],
      "metadata": {
        "colab": {
          "base_uri": "https://localhost:8080/"
        },
        "id": "19w6pYRNdU-w",
        "outputId": "9385646c-fde6-469f-b05d-2d03bd5451ab"
      },
      "execution_count": 105,
      "outputs": [
        {
          "output_type": "stream",
          "name": "stdout",
          "text": [
            "Leo\n"
          ]
        }
      ]
    },
    {
      "cell_type": "markdown",
      "source": [
        "You cann't change the tuple values. Please see the below code"
      ],
      "metadata": {
        "id": "ZECWgAeqdmaQ"
      }
    },
    {
      "cell_type": "code",
      "source": [
        "thisTuple[0] = \"Nothing\""
      ],
      "metadata": {
        "colab": {
          "base_uri": "https://localhost:8080/",
          "height": 169
        },
        "id": "Waqw2XhSdg0G",
        "outputId": "f26eb107-b495-418f-e701-5ff03ac9541c"
      },
      "execution_count": 106,
      "outputs": [
        {
          "output_type": "error",
          "ename": "TypeError",
          "evalue": "ignored",
          "traceback": [
            "\u001b[0;31m---------------------------------------------------------------------------\u001b[0m",
            "\u001b[0;31mTypeError\u001b[0m                                 Traceback (most recent call last)",
            "\u001b[0;32m<ipython-input-106-6a382149533a>\u001b[0m in \u001b[0;36m<module>\u001b[0;34m()\u001b[0m\n\u001b[0;32m----> 1\u001b[0;31m \u001b[0mthisTuple\u001b[0m\u001b[0;34m[\u001b[0m\u001b[0;36m0\u001b[0m\u001b[0;34m]\u001b[0m \u001b[0;34m=\u001b[0m \u001b[0;34m\"Nothing\"\u001b[0m\u001b[0;34m\u001b[0m\u001b[0;34m\u001b[0m\u001b[0m\n\u001b[0m",
            "\u001b[0;31mTypeError\u001b[0m: 'tuple' object does not support item assignment"
          ]
        }
      ]
    },
    {
      "cell_type": "markdown",
      "metadata": {
        "id": "-SK1oENUa1Sp"
      },
      "source": [
        "####Access Tuple items\n",
        "* thisTuple[index]"
      ]
    },
    {
      "cell_type": "code",
      "metadata": {
        "id": "Utw7s1rZazRg",
        "outputId": "29c829e3-dbb9-4e39-9e14-cfe3ed9f0ec3",
        "colab": {
          "base_uri": "https://localhost:8080/",
          "height": 36
        }
      },
      "source": [
        "thisTuple =(\"Leo\", \"Maz\", \"Leon\")\n",
        "print(thisTuple[1])"
      ],
      "execution_count": null,
      "outputs": [
        {
          "output_type": "stream",
          "text": [
            "Maz\n"
          ],
          "name": "stdout"
        }
      ]
    },
    {
      "cell_type": "markdown",
      "metadata": {
        "id": "WIt_9uD1boAi"
      },
      "source": [
        "####Change Tuple values\n",
        "Once a tuple is created, you cannot change its values. Tuples are **unchangeable**, or **immutable** as it also is called."
      ]
    },
    {
      "cell_type": "code",
      "metadata": {
        "id": "43QuNVn1bin0",
        "outputId": "7447f368-3ec8-4ddd-c8c5-de077828b509",
        "colab": {
          "base_uri": "https://localhost:8080/",
          "height": 241
        }
      },
      "source": [
        "x =('leo', 'maz', 'apple')\n",
        "# normally we cannot change tuple values \n",
        "# so first need convert to a list\n",
        "# then changes the value and \n",
        "#Aganin convert to a tuple\n",
        "y = list(x)\n",
        "print(y)\n",
        "#y[1] = 'xiaomi'\n",
        "#x = tuple(y)\n",
        "#print('After changing the tuple value: ',x)"
      ],
      "execution_count": 109,
      "outputs": [
        {
          "output_type": "error",
          "ename": "TypeError",
          "evalue": "ignored",
          "traceback": [
            "\u001b[0;31m---------------------------------------------------------------------------\u001b[0m",
            "\u001b[0;31mTypeError\u001b[0m                                 Traceback (most recent call last)",
            "\u001b[0;32m<ipython-input-109-a6a33c1c5c56>\u001b[0m in \u001b[0;36m<module>\u001b[0;34m()\u001b[0m\n\u001b[1;32m      4\u001b[0m \u001b[0;31m# then changes the value and\u001b[0m\u001b[0;34m\u001b[0m\u001b[0;34m\u001b[0m\u001b[0;34m\u001b[0m\u001b[0m\n\u001b[1;32m      5\u001b[0m \u001b[0;31m#Aganin convert to a tuple\u001b[0m\u001b[0;34m\u001b[0m\u001b[0;34m\u001b[0m\u001b[0;34m\u001b[0m\u001b[0m\n\u001b[0;32m----> 6\u001b[0;31m \u001b[0my\u001b[0m \u001b[0;34m=\u001b[0m \u001b[0mlist\u001b[0m\u001b[0;34m(\u001b[0m\u001b[0mx\u001b[0m\u001b[0;34m)\u001b[0m\u001b[0;34m\u001b[0m\u001b[0;34m\u001b[0m\u001b[0m\n\u001b[0m\u001b[1;32m      7\u001b[0m \u001b[0mprint\u001b[0m\u001b[0;34m(\u001b[0m\u001b[0my\u001b[0m\u001b[0;34m)\u001b[0m\u001b[0;34m\u001b[0m\u001b[0;34m\u001b[0m\u001b[0m\n\u001b[1;32m      8\u001b[0m \u001b[0;31m#y[1] = 'xiaomi'\u001b[0m\u001b[0;34m\u001b[0m\u001b[0;34m\u001b[0m\u001b[0;34m\u001b[0m\u001b[0m\n",
            "\u001b[0;31mTypeError\u001b[0m: 'list' object is not callable"
          ]
        }
      ]
    },
    {
      "cell_type": "code",
      "source": [
        "print(type(x))"
      ],
      "metadata": {
        "colab": {
          "base_uri": "https://localhost:8080/"
        },
        "id": "EqssL3_pDgMV",
        "outputId": "29bec591-6d04-4d57-94a8-173e5fc1209d"
      },
      "execution_count": 112,
      "outputs": [
        {
          "output_type": "stream",
          "name": "stdout",
          "text": [
            "<class 'tuple'>\n"
          ]
        }
      ]
    },
    {
      "cell_type": "markdown",
      "source": [
        "###Sets\n",
        "\n",
        "\n",
        "A set is a collection which is unordered and unindexed.\n",
        "In Python sets are written with curly brackets."
      ],
      "metadata": {
        "id": "LQQADO2Qmy0K"
      }
    },
    {
      "cell_type": "code",
      "source": [
        "fruit_sets = {\"apple\", \"mango\", \"banana\"}\n",
        "print(fruit_sets)\n",
        "#\n",
        "fruit_sets = set((\"apple\", \"mango\", \"banana\"))\n",
        "print(fruit_sets)\n",
        "\n",
        "\n",
        "print(type(fruit_sets))\n",
        "\n",
        "# length of set\n",
        "print(len(fruit_sets))"
      ],
      "metadata": {
        "id": "9m1DUSmrmq7Z",
        "colab": {
          "base_uri": "https://localhost:8080/"
        },
        "outputId": "a881576a-13eb-4292-f014-08d31c8e3254"
      },
      "execution_count": 113,
      "outputs": [
        {
          "output_type": "stream",
          "name": "stdout",
          "text": [
            "{'apple', 'mango', 'banana'}\n",
            "{'apple', 'mango', 'banana'}\n",
            "<class 'set'>\n",
            "3\n"
          ]
        }
      ]
    },
    {
      "cell_type": "code",
      "source": [
        "# check in set\n",
        "if \"asdasdada\" in fruit_sets:\n",
        "    print(\"Available\")\n",
        "else:\n",
        "    print(\"404 error not found\")"
      ],
      "metadata": {
        "colab": {
          "base_uri": "https://localhost:8080/"
        },
        "id": "VuboYBG9pfrj",
        "outputId": "8f8b7c5b-93f2-4408-a34a-42c1610f159e"
      },
      "execution_count": 115,
      "outputs": [
        {
          "output_type": "stream",
          "name": "stdout",
          "text": [
            "404 error not found\n"
          ]
        }
      ]
    },
    {
      "cell_type": "code",
      "source": [
        "# remove from set\n",
        "fruit_sets.remove(\"mango\")\n",
        "print(f\" After removing mango from sets: looks like {fruit_sets}\")"
      ],
      "metadata": {
        "colab": {
          "base_uri": "https://localhost:8080/"
        },
        "id": "edFpU81Ep3qS",
        "outputId": "6144a7bc-74bb-4f2d-b986-f1429e01b10e"
      },
      "execution_count": 116,
      "outputs": [
        {
          "output_type": "stream",
          "name": "stdout",
          "text": [
            " After removing mango from sets: looks like {'apple', 'banana'}\n"
          ]
        }
      ]
    },
    {
      "cell_type": "code",
      "source": [
        "for item in fruit_sets:\n",
        "    print(item)"
      ],
      "metadata": {
        "colab": {
          "base_uri": "https://localhost:8080/"
        },
        "id": "lW0nMz2pqKs7",
        "outputId": "6938dcac-9e65-420d-b909-4a92d1dbf823"
      },
      "execution_count": 117,
      "outputs": [
        {
          "output_type": "stream",
          "name": "stdout",
          "text": [
            "apple\n",
            "banana\n"
          ]
        }
      ]
    },
    {
      "cell_type": "markdown",
      "source": [
        "###Dict\n",
        "Python's efficient key/value hash table structure is called a \"dict\". \n",
        "\n",
        "A dictionary is a collection which is unordered, changeable and indexed. In Python dictionaries are\n",
        "written with curly brackets, and they have keys and values.\n",
        "\n",
        "\n",
        "Dictionaries are sometimes found in other languages as “associative memories” or “associative\n",
        "arrays”. Unlike sequences, which are indexed by a range of numbers, dictionaries are indexed by\n",
        "keys, which can be any immutable type; strings and numbers can always be keys. Tuples can be used\n",
        "as keys if they contain only strings, numbers, or tuples; if a tuple contains any mutable object\n",
        "either directly or indirectly, it cannot be used as a key. You can’t use lists as keys, since\n",
        "lists can be modified in place using index assignments, slice assignments, or methods like append()\n",
        "and extend().\n"
      ],
      "metadata": {
        "id": "A6-XX-D1o1sx"
      }
    },
    {
      "cell_type": "code",
      "source": [
        "## Can build up a dict by starting with the the empty dict {}\n",
        "## and storing key/value pairs into the dict like this:\n",
        "## dict[key] = value-for-that-key\n",
        "dict = {}\n",
        "dict['a'] = 'alpha'\n",
        "dict['g'] = 'gamma'\n",
        "dict['o'] = 'omega'\n",
        "\n",
        "print(dict)"
      ],
      "metadata": {
        "colab": {
          "base_uri": "https://localhost:8080/"
        },
        "id": "_89SYCSxqUgK",
        "outputId": "32af7523-010f-417d-d1f5-93836d7b25c4"
      },
      "execution_count": 118,
      "outputs": [
        {
          "output_type": "stream",
          "name": "stdout",
          "text": [
            "{'a': 'alpha', 'g': 'gamma', 'o': 'omega'}\n"
          ]
        }
      ]
    },
    {
      "cell_type": "code",
      "source": [
        "students = {\n",
        "    \"123\" : \"AAA\",\n",
        "    \"23\": \"BBB\",\n",
        "    \"24\": \"C\"\n",
        "}\n",
        "\n",
        "print(len(students))\n",
        "\n",
        "# print the students\n",
        "print(students)"
      ],
      "metadata": {
        "colab": {
          "base_uri": "https://localhost:8080/"
        },
        "id": "iHkfKQCZq2Fg",
        "outputId": "bc95fe97-3fc2-452e-ccec-b99a0c991295"
      },
      "execution_count": 119,
      "outputs": [
        {
          "output_type": "stream",
          "name": "stdout",
          "text": [
            "3\n",
            "{'123': 'AAA', '23': 'BBB', '24': 'C'}\n"
          ]
        }
      ]
    },
    {
      "cell_type": "markdown",
      "source": [
        "####Accessing the dict"
      ],
      "metadata": {
        "id": "VvHSduW0rJig"
      }
    },
    {
      "cell_type": "code",
      "source": [
        "print(students[\"123\"])\n",
        "# dict[key]\n"
      ],
      "metadata": {
        "colab": {
          "base_uri": "https://localhost:8080/"
        },
        "id": "hvFI4Q1vrLcn",
        "outputId": "77d443b3-82dc-4696-e4f3-62ce1a503086"
      },
      "execution_count": 120,
      "outputs": [
        {
          "output_type": "stream",
          "name": "stdout",
          "text": [
            "AAA\n"
          ]
        }
      ]
    },
    {
      "cell_type": "markdown",
      "source": [
        "####Change the values"
      ],
      "metadata": {
        "id": "6MRI2cXNrTG0"
      }
    },
    {
      "cell_type": "code",
      "source": [
        "students[\"123\"] = \"LLL\"\n",
        "\n",
        "print(\"Now the students dict\")\n",
        "print(students)"
      ],
      "metadata": {
        "colab": {
          "base_uri": "https://localhost:8080/"
        },
        "id": "RlZUsptVrU2o",
        "outputId": "9b9b00a6-62b6-44c4-d130-9eff1482c70c"
      },
      "execution_count": 121,
      "outputs": [
        {
          "output_type": "stream",
          "name": "stdout",
          "text": [
            "Now the students dict\n",
            "{'123': 'LLL', '23': 'BBB', '24': 'C'}\n"
          ]
        }
      ]
    },
    {
      "cell_type": "code",
      "source": [
        "students[\"12334242\"]"
      ],
      "metadata": {
        "colab": {
          "base_uri": "https://localhost:8080/",
          "height": 169
        },
        "id": "47DC2aLLJUer",
        "outputId": "4f28ec35-3e34-47c5-dfd9-309f198b295e"
      },
      "execution_count": 123,
      "outputs": [
        {
          "output_type": "error",
          "ename": "KeyError",
          "evalue": "ignored",
          "traceback": [
            "\u001b[0;31m---------------------------------------------------------------------------\u001b[0m",
            "\u001b[0;31mKeyError\u001b[0m                                  Traceback (most recent call last)",
            "\u001b[0;32m<ipython-input-123-48d683859a75>\u001b[0m in \u001b[0;36m<module>\u001b[0;34m()\u001b[0m\n\u001b[0;32m----> 1\u001b[0;31m \u001b[0mstudents\u001b[0m\u001b[0;34m[\u001b[0m\u001b[0;34m\"12334242\"\u001b[0m\u001b[0;34m]\u001b[0m\u001b[0;34m\u001b[0m\u001b[0;34m\u001b[0m\u001b[0m\n\u001b[0m",
            "\u001b[0;31mKeyError\u001b[0m: '12334242'"
          ]
        }
      ]
    },
    {
      "cell_type": "code",
      "source": [
        "val  = students.get(\"12334242\")\n",
        "print(val)"
      ],
      "metadata": {
        "colab": {
          "base_uri": "https://localhost:8080/"
        },
        "id": "rHljojX3reUL",
        "outputId": "d1bb31cd-2996-4e89-a59a-aef1e2993dec"
      },
      "execution_count": 124,
      "outputs": [
        {
          "output_type": "stream",
          "name": "stdout",
          "text": [
            "None\n"
          ]
        }
      ]
    },
    {
      "cell_type": "markdown",
      "source": [
        "####Iterate the dict"
      ],
      "metadata": {
        "id": "v2wPkgTqrq1H"
      }
    },
    {
      "cell_type": "code",
      "source": [
        "for item in students:\n",
        "    print(item)"
      ],
      "metadata": {
        "colab": {
          "base_uri": "https://localhost:8080/"
        },
        "id": "hDep0Muqrt8Z",
        "outputId": "f1fd4fa1-ac0d-442a-a629-62424c98c77c"
      },
      "execution_count": 125,
      "outputs": [
        {
          "output_type": "stream",
          "name": "stdout",
          "text": [
            "123\n",
            "23\n",
            "24\n"
          ]
        }
      ]
    },
    {
      "cell_type": "markdown",
      "source": [
        "####Others features in dict"
      ],
      "metadata": {
        "id": "_o7gjPPLsxgx"
      }
    },
    {
      "cell_type": "markdown",
      "source": [
        "Export the keys and values from dict"
      ],
      "metadata": {
        "id": "vsbyXK73sPmq"
      }
    },
    {
      "cell_type": "code",
      "source": [
        "for k, v in students.items():\n",
        "    print(f\"Keys: {k} and values: {v}\")"
      ],
      "metadata": {
        "colab": {
          "base_uri": "https://localhost:8080/"
        },
        "id": "J3_sUUJSrywf",
        "outputId": "8547946f-fb7e-4a88-b108-4623a22f9fa5"
      },
      "execution_count": 126,
      "outputs": [
        {
          "output_type": "stream",
          "name": "stdout",
          "text": [
            "Keys: 123 and values: LLL\n",
            "Keys: 23 and values: BBB\n",
            "Keys: 24 and values: C\n"
          ]
        }
      ]
    },
    {
      "cell_type": "markdown",
      "source": [
        "Export the keys from dict"
      ],
      "metadata": {
        "id": "cHAnnhGOsIB6"
      }
    },
    {
      "cell_type": "code",
      "source": [
        "students.keys()"
      ],
      "metadata": {
        "colab": {
          "base_uri": "https://localhost:8080/"
        },
        "id": "dFO7ZT4TsCT0",
        "outputId": "c74daa5a-f1db-4cb3-a2dc-02ab79852163"
      },
      "execution_count": 127,
      "outputs": [
        {
          "output_type": "execute_result",
          "data": {
            "text/plain": [
              "dict_keys(['123', '23', '24'])"
            ]
          },
          "metadata": {},
          "execution_count": 127
        }
      ]
    },
    {
      "cell_type": "markdown",
      "source": [
        "Export the values from dict"
      ],
      "metadata": {
        "id": "wqyqZHeosLKa"
      }
    },
    {
      "cell_type": "code",
      "source": [
        "students.values()"
      ],
      "metadata": {
        "colab": {
          "base_uri": "https://localhost:8080/"
        },
        "id": "99v4V5UXsFFK",
        "outputId": "4a028768-b6a8-4937-841f-e0e1140b9bc1"
      },
      "execution_count": 128,
      "outputs": [
        {
          "output_type": "execute_result",
          "data": {
            "text/plain": [
              "dict_values(['LLL', 'BBB', 'C'])"
            ]
          },
          "metadata": {},
          "execution_count": 128
        }
      ]
    },
    {
      "cell_type": "markdown",
      "source": [
        "Condition checking in dict"
      ],
      "metadata": {
        "id": "Y27UG_x6sttH"
      }
    },
    {
      "cell_type": "code",
      "source": [
        "print(students)"
      ],
      "metadata": {
        "colab": {
          "base_uri": "https://localhost:8080/"
        },
        "id": "8Md2898MtLJe",
        "outputId": "e5758288-a539-4c58-8b3b-a38d52737c55"
      },
      "execution_count": 129,
      "outputs": [
        {
          "output_type": "stream",
          "name": "stdout",
          "text": [
            "{'123': 'LLL', '23': 'BBB', '24': 'C'}\n"
          ]
        }
      ]
    },
    {
      "cell_type": "code",
      "source": [
        "temp_dict= {x: x**2 for x in (2, 4, 6)}\n",
        "\n",
        "print(temp_dict)"
      ],
      "metadata": {
        "colab": {
          "base_uri": "https://localhost:8080/"
        },
        "id": "xSUk6irXs33N",
        "outputId": "8a77e0ab-73c5-4f46-f058-99efc574558e"
      },
      "execution_count": 130,
      "outputs": [
        {
          "output_type": "stream",
          "name": "stdout",
          "text": [
            "{2: 4, 4: 16, 6: 36}\n"
          ]
        }
      ]
    },
    {
      "cell_type": "markdown",
      "source": [
        "###Type casting"
      ],
      "metadata": {
        "id": "s-mMZ8JWt7fM"
      }
    },
    {
      "cell_type": "code",
      "source": [
        "temp = 10.05\n",
        "print(f\"Type: {type(temp)} and values: {temp}\")\n",
        "\n",
        "temp = int(temp)\n",
        "print(f\"Type: {type(temp)} and values: {temp}\")\n",
        "\n",
        "temp = str(temp)\n",
        "print(f\"Type: {type(temp)} and values: {temp}\")\n",
        "\n",
        "\n",
        "temp = 11.0215253\n",
        "\n",
        "print(\"{:.2f}\".format(temp))\n"
      ],
      "metadata": {
        "colab": {
          "base_uri": "https://localhost:8080/"
        },
        "id": "SKQB3lqjt9dW",
        "outputId": "8b87591a-fad8-4a43-cdba-4341940e521a"
      },
      "execution_count": 132,
      "outputs": [
        {
          "output_type": "stream",
          "name": "stdout",
          "text": [
            "Type: <class 'float'> and values: 10.05\n",
            "Type: <class 'int'> and values: 10\n",
            "Type: <class 'str'> and values: 10\n",
            "11.02\n"
          ]
        }
      ]
    },
    {
      "cell_type": "markdown",
      "source": [
        "##Control Flow\n",
        "\n",
        "* if statement\n",
        "* for statement\n",
        "* while statement\n",
        "* try statement\n",
        "* break statement\n",
        "* continue statement"
      ],
      "metadata": {
        "id": "LipumyWP0xNj"
      }
    },
    {
      "cell_type": "markdown",
      "source": [
        "####If statement\n",
        "\n",
        "There can be zero or more elif parts, and the else part is optional. The keyword ‘elif’ is\n",
        "short for ‘else if’, and is useful to avoid excessive indentation.\n",
        "An if … elif … elif … sequence is a substitute for the switch or case statements found\n",
        "in other languages."
      ],
      "metadata": {
        "id": "aOwlvup2uyua"
      }
    },
    {
      "cell_type": "code",
      "source": [
        "nums = 15\n",
        "conclusion =''\n",
        "\n",
        "if nums < 0:\n",
        "    conclusion = \"Number is less than Zero\"\n",
        "elif num == 0:\n",
        "    conclusion = \"Number is equal to Zero\"\n",
        "elif num < 1:\n",
        "    conclusion = \"Number is greater than Zero but less than One\"\n",
        "else:\n",
        "    conclusion = \"Number is bigger than or equal to One\"\n",
        "\n",
        "\n",
        "print(conclusion)"
      ],
      "metadata": {
        "colab": {
          "base_uri": "https://localhost:8080/"
        },
        "id": "KfL6269rvEyL",
        "outputId": "5774663f-fa64-44cb-d2f8-7ade8d57918b"
      },
      "execution_count": 133,
      "outputs": [
        {
          "output_type": "stream",
          "name": "stdout",
          "text": [
            "Number is bigger than or equal to One\n"
          ]
        }
      ]
    },
    {
      "cell_type": "markdown",
      "source": [
        "####for statement\n",
        "\n",
        "he for statement in Python differs a bit from what you may be used to in C or Pascal.\n",
        "Rather than always iterating over an arithmetic progression of numbers (like in Pascal), or\n",
        "giving the user the ability to define both the iteration step and halting condition (as C),\n",
        "Python’s for statement iterates over the items of any sequence (a list or a string), in the\n",
        "order that they appear in the sequence. For example (no pun intended):"
      ],
      "metadata": {
        "id": "dwbi53STuzGL"
      }
    },
    {
      "cell_type": "code",
      "source": [
        "words = ['mac', 'window', 'linux']\n",
        "w_len = len(words)\n",
        "\n",
        "for i in range(w_len):\n",
        "    print(f\"Index: {i} and values {words[i]}\")"
      ],
      "metadata": {
        "colab": {
          "base_uri": "https://localhost:8080/"
        },
        "id": "QTSUpaM_vFSS",
        "outputId": "0002f9b9-c513-4a93-cb66-5971dcba7c44"
      },
      "execution_count": 134,
      "outputs": [
        {
          "output_type": "stream",
          "name": "stdout",
          "text": [
            "Index: 0 and values mac\n",
            "Index: 1 and values window\n",
            "Index: 2 and values linux\n"
          ]
        }
      ]
    },
    {
      "cell_type": "code",
      "source": [
        "w_len = 0\n",
        "for w in words:\n",
        "    w_len +=1\n",
        "\n",
        "print(\"Words length: \", w_len)"
      ],
      "metadata": {
        "id": "1T9PmfbjwVL3"
      },
      "execution_count": null,
      "outputs": []
    },
    {
      "cell_type": "code",
      "source": [
        "for i in range(2, 11, 2):\n",
        "    print(i)"
      ],
      "metadata": {
        "id": "PPFXZlSvwjGY"
      },
      "execution_count": null,
      "outputs": []
    },
    {
      "cell_type": "markdown",
      "source": [
        "####While statement"
      ],
      "metadata": {
        "id": "SaUx5JtZu7Bk"
      }
    },
    {
      "cell_type": "code",
      "source": [
        "words = ['mac', 'window', 'linux']\n",
        "\n",
        "idx = 0\n",
        "\n",
        "while idx < len(words):\n",
        "    print(words[idx])\n",
        "    idx +=1"
      ],
      "metadata": {
        "colab": {
          "base_uri": "https://localhost:8080/"
        },
        "id": "MFrF52UJvFtn",
        "outputId": "714542c7-e5b7-40af-8787-0fe6682b76c1"
      },
      "execution_count": 1,
      "outputs": [
        {
          "output_type": "stream",
          "name": "stdout",
          "text": [
            "mac\n",
            "window\n",
            "linux\n"
          ]
        }
      ]
    },
    {
      "cell_type": "markdown",
      "source": [
        "####try statement"
      ],
      "metadata": {
        "id": "f-xzkpIwu8z9"
      }
    },
    {
      "cell_type": "code",
      "source": [
        "try:\n",
        "    res = 10 / 0\n",
        "    print(res)\n",
        "except Exception as e:\n",
        "    print(e)\n",
        "finally:\n",
        "    print(\"Completed\")"
      ],
      "metadata": {
        "colab": {
          "base_uri": "https://localhost:8080/"
        },
        "id": "2zxHX6OjvGGE",
        "outputId": "f5893bd9-0a83-46dc-d750-411298bdd7a6"
      },
      "execution_count": 6,
      "outputs": [
        {
          "output_type": "stream",
          "name": "stdout",
          "text": [
            "division by zero\n",
            "Completed\n"
          ]
        }
      ]
    },
    {
      "cell_type": "markdown",
      "source": [
        "####break statement"
      ],
      "metadata": {
        "id": "W9vDq4e9u_2B"
      }
    },
    {
      "cell_type": "code",
      "source": [
        "words = ['mac', 'window', 'linux']\n",
        "\n",
        "idx = 0\n",
        "\n",
        "while True:\n",
        "    print(words[idx])\n",
        "    if idx == 1:\n",
        "        break\n",
        "    idx +=1\n",
        "print(\"Loop End\")"
      ],
      "metadata": {
        "colab": {
          "base_uri": "https://localhost:8080/"
        },
        "id": "-kD5Iz5TvGek",
        "outputId": "0ea63433-0545-46fd-cfae-2725acea5256"
      },
      "execution_count": 4,
      "outputs": [
        {
          "output_type": "stream",
          "name": "stdout",
          "text": [
            "mac\n",
            "window\n",
            "Loop End\n"
          ]
        }
      ]
    },
    {
      "cell_type": "markdown",
      "source": [
        "###continue statement"
      ],
      "metadata": {
        "id": "6TjwIB86vCHJ"
      }
    },
    {
      "cell_type": "code",
      "source": [
        ""
      ],
      "metadata": {
        "id": "b5aeEwRUvHKp"
      },
      "execution_count": null,
      "outputs": []
    },
    {
      "cell_type": "markdown",
      "source": [
        "##Functions\n",
        "\n",
        "The keyword def introduces a function definition. It must be followed by the function name and the\n",
        "parenthesized list of formal parameters. The statements that form the body of the function start at\n",
        "the next line, and must be indented."
      ],
      "metadata": {
        "id": "qy34Jmqt0zxj"
      }
    },
    {
      "cell_type": "code",
      "source": [
        "def function_name(parameter):\n",
        "    print(\"Function Body\")\n",
        "    return None \n",
        "\n",
        "\n",
        "# call a function\n",
        "function_name(\"Paramenter value\")"
      ],
      "metadata": {
        "id": "nVOhsVfJ03_I",
        "colab": {
          "base_uri": "https://localhost:8080/"
        },
        "outputId": "de2c9dc9-f8dd-49cc-add9-bf66e066168d"
      },
      "execution_count": 7,
      "outputs": [
        {
          "output_type": "stream",
          "name": "stdout",
          "text": [
            "Function Body\n"
          ]
        }
      ]
    },
    {
      "cell_type": "code",
      "source": [
        "def greeting_fun(name):\n",
        "    print(\"Hello {}\".format(name))\n",
        "\n",
        "\n",
        "def get_message():\n",
        "    return \"Welcome to the Python workshop\"\n"
      ],
      "metadata": {
        "id": "JWnMD0clgpbJ"
      },
      "execution_count": 135,
      "outputs": []
    },
    {
      "cell_type": "code",
      "source": [
        ""
      ],
      "metadata": {
        "id": "1LW69EP_O5o7"
      },
      "execution_count": null,
      "outputs": []
    },
    {
      "cell_type": "code",
      "source": [
        "greeting_fun(\"Jhony\")\n",
        "print(get_message())"
      ],
      "metadata": {
        "colab": {
          "base_uri": "https://localhost:8080/"
        },
        "id": "T56vkqdygwCr",
        "outputId": "70f4a5ae-d3b4-4f78-95ce-d3f062926036"
      },
      "execution_count": 136,
      "outputs": [
        {
          "output_type": "stream",
          "name": "stdout",
          "text": [
            "Hello Jhony\n",
            "Welcome to the Python workshop\n"
          ]
        }
      ]
    },
    {
      "cell_type": "code",
      "source": [
        "number_limit = 21\n",
        "\n",
        "fib_list = []\n",
        "prev, current = 0, 1\n",
        "\n",
        "while prev < number_limit:\n",
        "    fib_list.append(prev)\n",
        "    prev, current = current, prev + current\n",
        "\n",
        "\n",
        "print(fib_list)"
      ],
      "metadata": {
        "colab": {
          "base_uri": "https://localhost:8080/"
        },
        "id": "ZCoeZcXEfUpd",
        "outputId": "40f9292a-2e73-436f-9d9d-80e0599acceb"
      },
      "execution_count": 137,
      "outputs": [
        {
          "output_type": "stream",
          "name": "stdout",
          "text": [
            "[0, 1, 1, 2, 3, 5, 8, 13]\n"
          ]
        }
      ]
    },
    {
      "cell_type": "code",
      "source": [
        "def fib_func(number_limit):\n",
        "    fib_list = []\n",
        "    prev, current = 0,1 \n",
        "    while prev < number_limit:\n",
        "        fib_list.append(prev)\n",
        "        prev, current  = current, prev+current\n",
        "    return fib_list"
      ],
      "metadata": {
        "id": "SMfpxyw4f3DX"
      },
      "execution_count": 138,
      "outputs": []
    },
    {
      "cell_type": "code",
      "source": [
        "result = fib_func(100)\n",
        "\n",
        "print(result)"
      ],
      "metadata": {
        "colab": {
          "base_uri": "https://localhost:8080/"
        },
        "id": "_NFke2r-gQn3",
        "outputId": "a5e97db2-2acf-4990-b6ee-ae73d14bffb3"
      },
      "execution_count": 139,
      "outputs": [
        {
          "output_type": "stream",
          "name": "stdout",
          "text": [
            "[0, 1, 1, 2, 3, 5, 8, 13, 21, 34, 55, 89]\n"
          ]
        }
      ]
    },
    {
      "cell_type": "code",
      "source": [
        "result = fib_func(50)\n",
        "\n",
        "print(result)"
      ],
      "metadata": {
        "colab": {
          "base_uri": "https://localhost:8080/"
        },
        "id": "5lmVUQ33PbGA",
        "outputId": "946b2bb4-5205-435e-c3f6-d4de0343a4e5"
      },
      "execution_count": 140,
      "outputs": [
        {
          "output_type": "stream",
          "name": "stdout",
          "text": [
            "[0, 1, 1, 2, 3, 5, 8, 13, 21, 34]\n"
          ]
        }
      ]
    },
    {
      "cell_type": "markdown",
      "source": [
        "##Classes\n",
        "\n",
        "Python is an object oriented programming language.\n",
        "Almost everything in Python is an object, with its properties and methods.\n",
        "A Class is like an object constructor, or a \"blueprint\" for creating objects."
      ],
      "metadata": {
        "id": "l2kZK_HR04td"
      }
    },
    {
      "cell_type": "code",
      "source": [
        "class ClassName:\n",
        "    def __init__(self):\n",
        "        self.variable_1 = \"Variable_1\"\n",
        "        self.variable_2 = \"Variable_2\"\n",
        "    \n",
        "    def greeting_fun(self):\n",
        "        print(\"Greetings from class function\")\n",
        "    \n",
        "\n",
        "    def get_variable_fun(self):\n",
        "        print(self.variable_1)\n",
        "        print(self.variable_2)\n"
      ],
      "metadata": {
        "id": "mz16mBZ4hawh"
      },
      "execution_count": 29,
      "outputs": []
    },
    {
      "cell_type": "code",
      "source": [
        "object  = ClassName()\n",
        "\n",
        "object.greeting_fun()\n",
        "\n",
        "object.get_variable_fun()"
      ],
      "metadata": {
        "colab": {
          "base_uri": "https://localhost:8080/"
        },
        "id": "Q8yRQdrbh3rY",
        "outputId": "3310af99-1328-4eda-a5b7-7f535e42f06c"
      },
      "execution_count": 31,
      "outputs": [
        {
          "output_type": "stream",
          "name": "stdout",
          "text": [
            "Greetings from class function\n",
            "Variable_1\n",
            "Variable_2\n"
          ]
        }
      ]
    },
    {
      "cell_type": "code",
      "source": [
        ""
      ],
      "metadata": {
        "id": "BBslcbxhiaPL"
      },
      "execution_count": null,
      "outputs": []
    },
    {
      "cell_type": "code",
      "source": [
        "class Students:\n",
        "    def __init__(self, name, id):\n",
        "        self.name = name\n",
        "        self.id = id \n",
        "        self.uni_name = \"UIU\"\n",
        "    \n",
        "    def set_name(self, new_name):\n",
        "        self.name = new_name\n",
        "\n",
        "\n",
        "# create object of student class\n",
        "student_1 = Students(\"AAA\", \"001\")\n",
        "\n",
        "student_2 =  Students(\"BBBB\", \"002\")"
      ],
      "metadata": {
        "id": "ZDHGPHghiagi"
      },
      "execution_count": 36,
      "outputs": []
    },
    {
      "cell_type": "code",
      "source": [
        "print(student_1.name, student_1.id)\n",
        "\n",
        "print(student_2.name, student_2.id)"
      ],
      "metadata": {
        "colab": {
          "base_uri": "https://localhost:8080/"
        },
        "id": "f7_0BTr0jfl9",
        "outputId": "b1b43b0f-1322-4ed9-b3bb-61c6346cf554"
      },
      "execution_count": 40,
      "outputs": [
        {
          "output_type": "stream",
          "name": "stdout",
          "text": [
            "AAA 001\n",
            "BBBB 002\n"
          ]
        }
      ]
    },
    {
      "cell_type": "markdown",
      "source": [
        "####Inheritance"
      ],
      "metadata": {
        "id": "vFXx9I6lkdZA"
      }
    },
    {
      "cell_type": "code",
      "source": [
        "class Person:\n",
        "    def __init__(self, name):\n",
        "        self.name = name\n",
        "    \n",
        "    def get_name(self):\n",
        "        return self.name"
      ],
      "metadata": {
        "id": "Re7IK8u2kgZZ"
      },
      "execution_count": 50,
      "outputs": []
    },
    {
      "cell_type": "code",
      "source": [
        "class Employee(Person):\n",
        "    def __init__(self, name, staff_id):\n",
        "        # Person.__init__(self, name)\n",
        "        super().__init__(name)\n",
        "        self.staff_id = staff_id\n",
        "    \n",
        "    def get_details(self):\n",
        "        name = self.get_name()\n",
        "        return name + \"-\" + self.staff_id"
      ],
      "metadata": {
        "id": "Mit01k0Hk3Bj"
      },
      "execution_count": 68,
      "outputs": []
    },
    {
      "cell_type": "markdown",
      "source": [
        "By using the super() function, you do not have to use the name of the parent element, it will automatically inherit the methods and properties from its parent."
      ],
      "metadata": {
        "id": "EmRPj5wrncvT"
      }
    },
    {
      "cell_type": "code",
      "source": [
        "emp_1=Employee(\"Leon\", \"111\")\n",
        "emp_2 = Employee(\"Sifat\", \"555\")"
      ],
      "metadata": {
        "id": "yrq0gR8wljRX"
      },
      "execution_count": 69,
      "outputs": []
    },
    {
      "cell_type": "code",
      "source": [
        "print(emp_1.get_details())\n",
        "\n",
        "\n",
        "print(emp_2.get_details())"
      ],
      "metadata": {
        "id": "yqGo5FX-l6T-"
      },
      "execution_count": null,
      "outputs": []
    },
    {
      "cell_type": "markdown",
      "source": [
        "##Files"
      ],
      "metadata": {
        "id": "kV3H2nND07n6"
      }
    },
    {
      "cell_type": "markdown",
      "metadata": {
        "id": "c_aV_20BTCVl"
      },
      "source": [
        "#Dates Type Operations\n",
        "To get current date and time \n",
        "we need to use the datetime library "
      ]
    },
    {
      "cell_type": "code",
      "metadata": {
        "id": "_63FkC3ETE6w",
        "outputId": "938dc761-e767-4a25-b031-cea6bc7866de",
        "colab": {
          "base_uri": "https://localhost:8080/",
          "height": 110
        }
      },
      "source": [
        "import datetime\n",
        "print(datetime.datetime.now())   # this will print current datetime\n",
        "# create a datetime objects\n",
        "x = datetime.datetime(2019, 7, 15)\n",
        "print(x)\n",
        "print(x.strftime('%B')) # %B full form of the month\n",
        "print(x.strftime('%Y'))\n",
        "print(x.strftime('%y'))  # short version\n"
      ],
      "execution_count": null,
      "outputs": [
        {
          "output_type": "stream",
          "text": [
            "2019-09-28 18:23:06.438448\n",
            "2019-07-15 00:00:00\n",
            "July\n",
            "2019\n",
            "19\n"
          ],
          "name": "stdout"
        }
      ]
    },
    {
      "cell_type": "markdown",
      "metadata": {
        "id": "3-e4sgsvNzb5"
      },
      "source": [
        "#Intro to Python by Akash Isalm Sir"
      ]
    },
    {
      "cell_type": "code",
      "metadata": {
        "id": "xBZY-V0WcOTK"
      },
      "source": [
        "import numpy as np\n",
        "import pandas as pd\n",
        "from matplotlib import pyplot as plt"
      ],
      "execution_count": null,
      "outputs": []
    },
    {
      "cell_type": "code",
      "metadata": {
        "id": "0wgD7jKGOCZx",
        "colab": {
          "base_uri": "https://localhost:8080/",
          "height": 91
        },
        "outputId": "283b8579-9596-4cbf-dbdb-289df0bdadb4"
      },
      "source": [
        "!curl -L https://datahub.io/machine-learning/diabetes/r/1.csv > diabetes.csv"
      ],
      "execution_count": null,
      "outputs": [
        {
          "output_type": "stream",
          "text": [
            "  % Total    % Received % Xferd  Average Speed   Time    Time     Time  Current\n",
            "                                 Dload  Upload   Total   Spent    Left  Speed\n",
            "100   143  100   143    0     0     85      0  0:00:01  0:00:01 --:--:--    85\n",
            "100 34575  100 34575    0     0  13879      0  0:00:02  0:00:02 --:--:-- 3527k\n"
          ],
          "name": "stdout"
        }
      ]
    },
    {
      "cell_type": "code",
      "metadata": {
        "id": "CDz1AQllOLJ9",
        "colab": {
          "base_uri": "https://localhost:8080/",
          "height": 206
        },
        "outputId": "af0b474c-09da-461b-bdb0-8fdc3e9cfc0a"
      },
      "source": [
        "# read file\n",
        "data = pd.read_csv(\"/content/sample_data/california_housing_train.csv\")\n",
        "# show some head file\n",
        "data.head()"
      ],
      "execution_count": null,
      "outputs": [
        {
          "output_type": "execute_result",
          "data": {
            "text/html": [
              "<div>\n",
              "<style scoped>\n",
              "    .dataframe tbody tr th:only-of-type {\n",
              "        vertical-align: middle;\n",
              "    }\n",
              "\n",
              "    .dataframe tbody tr th {\n",
              "        vertical-align: top;\n",
              "    }\n",
              "\n",
              "    .dataframe thead th {\n",
              "        text-align: right;\n",
              "    }\n",
              "</style>\n",
              "<table border=\"1\" class=\"dataframe\">\n",
              "  <thead>\n",
              "    <tr style=\"text-align: right;\">\n",
              "      <th></th>\n",
              "      <th>longitude</th>\n",
              "      <th>latitude</th>\n",
              "      <th>housing_median_age</th>\n",
              "      <th>total_rooms</th>\n",
              "      <th>total_bedrooms</th>\n",
              "      <th>population</th>\n",
              "      <th>households</th>\n",
              "      <th>median_income</th>\n",
              "      <th>median_house_value</th>\n",
              "    </tr>\n",
              "  </thead>\n",
              "  <tbody>\n",
              "    <tr>\n",
              "      <th>0</th>\n",
              "      <td>-114.31</td>\n",
              "      <td>34.19</td>\n",
              "      <td>15.0</td>\n",
              "      <td>5612.0</td>\n",
              "      <td>1283.0</td>\n",
              "      <td>1015.0</td>\n",
              "      <td>472.0</td>\n",
              "      <td>1.4936</td>\n",
              "      <td>66900.0</td>\n",
              "    </tr>\n",
              "    <tr>\n",
              "      <th>1</th>\n",
              "      <td>-114.47</td>\n",
              "      <td>34.40</td>\n",
              "      <td>19.0</td>\n",
              "      <td>7650.0</td>\n",
              "      <td>1901.0</td>\n",
              "      <td>1129.0</td>\n",
              "      <td>463.0</td>\n",
              "      <td>1.8200</td>\n",
              "      <td>80100.0</td>\n",
              "    </tr>\n",
              "    <tr>\n",
              "      <th>2</th>\n",
              "      <td>-114.56</td>\n",
              "      <td>33.69</td>\n",
              "      <td>17.0</td>\n",
              "      <td>720.0</td>\n",
              "      <td>174.0</td>\n",
              "      <td>333.0</td>\n",
              "      <td>117.0</td>\n",
              "      <td>1.6509</td>\n",
              "      <td>85700.0</td>\n",
              "    </tr>\n",
              "    <tr>\n",
              "      <th>3</th>\n",
              "      <td>-114.57</td>\n",
              "      <td>33.64</td>\n",
              "      <td>14.0</td>\n",
              "      <td>1501.0</td>\n",
              "      <td>337.0</td>\n",
              "      <td>515.0</td>\n",
              "      <td>226.0</td>\n",
              "      <td>3.1917</td>\n",
              "      <td>73400.0</td>\n",
              "    </tr>\n",
              "    <tr>\n",
              "      <th>4</th>\n",
              "      <td>-114.57</td>\n",
              "      <td>33.57</td>\n",
              "      <td>20.0</td>\n",
              "      <td>1454.0</td>\n",
              "      <td>326.0</td>\n",
              "      <td>624.0</td>\n",
              "      <td>262.0</td>\n",
              "      <td>1.9250</td>\n",
              "      <td>65500.0</td>\n",
              "    </tr>\n",
              "  </tbody>\n",
              "</table>\n",
              "</div>"
            ],
            "text/plain": [
              "   longitude  latitude  ...  median_income  median_house_value\n",
              "0    -114.31     34.19  ...         1.4936             66900.0\n",
              "1    -114.47     34.40  ...         1.8200             80100.0\n",
              "2    -114.56     33.69  ...         1.6509             85700.0\n",
              "3    -114.57     33.64  ...         3.1917             73400.0\n",
              "4    -114.57     33.57  ...         1.9250             65500.0\n",
              "\n",
              "[5 rows x 9 columns]"
            ]
          },
          "metadata": {
            "tags": []
          },
          "execution_count": 3
        }
      ]
    },
    {
      "cell_type": "code",
      "metadata": {
        "id": "X_VMGCc5Onhf",
        "colab": {
          "base_uri": "https://localhost:8080/",
          "height": 206
        },
        "outputId": "8613064d-320d-46c6-b0a4-5a3c2cb0042e"
      },
      "source": [
        "# slice\n",
        "temp = data.iloc[5:20, 2:5]\n",
        "temp.head()"
      ],
      "execution_count": null,
      "outputs": [
        {
          "output_type": "execute_result",
          "data": {
            "text/html": [
              "<div>\n",
              "<style scoped>\n",
              "    .dataframe tbody tr th:only-of-type {\n",
              "        vertical-align: middle;\n",
              "    }\n",
              "\n",
              "    .dataframe tbody tr th {\n",
              "        vertical-align: top;\n",
              "    }\n",
              "\n",
              "    .dataframe thead th {\n",
              "        text-align: right;\n",
              "    }\n",
              "</style>\n",
              "<table border=\"1\" class=\"dataframe\">\n",
              "  <thead>\n",
              "    <tr style=\"text-align: right;\">\n",
              "      <th></th>\n",
              "      <th>housing_median_age</th>\n",
              "      <th>total_rooms</th>\n",
              "      <th>total_bedrooms</th>\n",
              "    </tr>\n",
              "  </thead>\n",
              "  <tbody>\n",
              "    <tr>\n",
              "      <th>5</th>\n",
              "      <td>29.0</td>\n",
              "      <td>1387.0</td>\n",
              "      <td>236.0</td>\n",
              "    </tr>\n",
              "    <tr>\n",
              "      <th>6</th>\n",
              "      <td>25.0</td>\n",
              "      <td>2907.0</td>\n",
              "      <td>680.0</td>\n",
              "    </tr>\n",
              "    <tr>\n",
              "      <th>7</th>\n",
              "      <td>41.0</td>\n",
              "      <td>812.0</td>\n",
              "      <td>168.0</td>\n",
              "    </tr>\n",
              "    <tr>\n",
              "      <th>8</th>\n",
              "      <td>34.0</td>\n",
              "      <td>4789.0</td>\n",
              "      <td>1175.0</td>\n",
              "    </tr>\n",
              "    <tr>\n",
              "      <th>9</th>\n",
              "      <td>46.0</td>\n",
              "      <td>1497.0</td>\n",
              "      <td>309.0</td>\n",
              "    </tr>\n",
              "  </tbody>\n",
              "</table>\n",
              "</div>"
            ],
            "text/plain": [
              "   housing_median_age  total_rooms  total_bedrooms\n",
              "5                29.0       1387.0           236.0\n",
              "6                25.0       2907.0           680.0\n",
              "7                41.0        812.0           168.0\n",
              "8                34.0       4789.0          1175.0\n",
              "9                46.0       1497.0           309.0"
            ]
          },
          "metadata": {
            "tags": []
          },
          "execution_count": 5
        }
      ]
    },
    {
      "cell_type": "code",
      "metadata": {
        "id": "U983QnsmPONc",
        "colab": {
          "base_uri": "https://localhost:8080/",
          "height": 206
        },
        "outputId": "f5f68b13-681b-43df-952b-fafb8958dfe2"
      },
      "source": [
        "temp = data[['housing_median_age', 'total_rooms']]\n",
        "temp.head()"
      ],
      "execution_count": null,
      "outputs": [
        {
          "output_type": "execute_result",
          "data": {
            "text/html": [
              "<div>\n",
              "<style scoped>\n",
              "    .dataframe tbody tr th:only-of-type {\n",
              "        vertical-align: middle;\n",
              "    }\n",
              "\n",
              "    .dataframe tbody tr th {\n",
              "        vertical-align: top;\n",
              "    }\n",
              "\n",
              "    .dataframe thead th {\n",
              "        text-align: right;\n",
              "    }\n",
              "</style>\n",
              "<table border=\"1\" class=\"dataframe\">\n",
              "  <thead>\n",
              "    <tr style=\"text-align: right;\">\n",
              "      <th></th>\n",
              "      <th>housing_median_age</th>\n",
              "      <th>total_rooms</th>\n",
              "    </tr>\n",
              "  </thead>\n",
              "  <tbody>\n",
              "    <tr>\n",
              "      <th>0</th>\n",
              "      <td>15.0</td>\n",
              "      <td>5612.0</td>\n",
              "    </tr>\n",
              "    <tr>\n",
              "      <th>1</th>\n",
              "      <td>19.0</td>\n",
              "      <td>7650.0</td>\n",
              "    </tr>\n",
              "    <tr>\n",
              "      <th>2</th>\n",
              "      <td>17.0</td>\n",
              "      <td>720.0</td>\n",
              "    </tr>\n",
              "    <tr>\n",
              "      <th>3</th>\n",
              "      <td>14.0</td>\n",
              "      <td>1501.0</td>\n",
              "    </tr>\n",
              "    <tr>\n",
              "      <th>4</th>\n",
              "      <td>20.0</td>\n",
              "      <td>1454.0</td>\n",
              "    </tr>\n",
              "  </tbody>\n",
              "</table>\n",
              "</div>"
            ],
            "text/plain": [
              "   housing_median_age  total_rooms\n",
              "0                15.0       5612.0\n",
              "1                19.0       7650.0\n",
              "2                17.0        720.0\n",
              "3                14.0       1501.0\n",
              "4                20.0       1454.0"
            ]
          },
          "metadata": {
            "tags": []
          },
          "execution_count": 8
        }
      ]
    },
    {
      "cell_type": "code",
      "metadata": {
        "id": "GON9LfTvP9No",
        "colab": {
          "base_uri": "https://localhost:8080/",
          "height": 206
        },
        "outputId": "ca4ebcdf-1f7e-486a-db2f-0a1a2ecee762"
      },
      "source": [
        "temp = data[ data['total_rooms'] <100 ] # condition\n",
        "temp.head()"
      ],
      "execution_count": null,
      "outputs": [
        {
          "output_type": "execute_result",
          "data": {
            "text/html": [
              "<div>\n",
              "<style scoped>\n",
              "    .dataframe tbody tr th:only-of-type {\n",
              "        vertical-align: middle;\n",
              "    }\n",
              "\n",
              "    .dataframe tbody tr th {\n",
              "        vertical-align: top;\n",
              "    }\n",
              "\n",
              "    .dataframe thead th {\n",
              "        text-align: right;\n",
              "    }\n",
              "</style>\n",
              "<table border=\"1\" class=\"dataframe\">\n",
              "  <thead>\n",
              "    <tr style=\"text-align: right;\">\n",
              "      <th></th>\n",
              "      <th>longitude</th>\n",
              "      <th>latitude</th>\n",
              "      <th>housing_median_age</th>\n",
              "      <th>total_rooms</th>\n",
              "      <th>total_bedrooms</th>\n",
              "      <th>population</th>\n",
              "      <th>households</th>\n",
              "      <th>median_income</th>\n",
              "      <th>median_house_value</th>\n",
              "    </tr>\n",
              "  </thead>\n",
              "  <tbody>\n",
              "    <tr>\n",
              "      <th>17</th>\n",
              "      <td>-114.65</td>\n",
              "      <td>32.79</td>\n",
              "      <td>21.0</td>\n",
              "      <td>44.0</td>\n",
              "      <td>33.0</td>\n",
              "      <td>64.0</td>\n",
              "      <td>27.0</td>\n",
              "      <td>0.8571</td>\n",
              "      <td>25000.0</td>\n",
              "    </tr>\n",
              "    <tr>\n",
              "      <th>19</th>\n",
              "      <td>-114.67</td>\n",
              "      <td>33.92</td>\n",
              "      <td>17.0</td>\n",
              "      <td>97.0</td>\n",
              "      <td>24.0</td>\n",
              "      <td>29.0</td>\n",
              "      <td>15.0</td>\n",
              "      <td>1.2656</td>\n",
              "      <td>27500.0</td>\n",
              "    </tr>\n",
              "    <tr>\n",
              "      <th>113</th>\n",
              "      <td>-115.80</td>\n",
              "      <td>33.26</td>\n",
              "      <td>2.0</td>\n",
              "      <td>96.0</td>\n",
              "      <td>18.0</td>\n",
              "      <td>30.0</td>\n",
              "      <td>16.0</td>\n",
              "      <td>5.3374</td>\n",
              "      <td>47500.0</td>\n",
              "    </tr>\n",
              "    <tr>\n",
              "      <th>121</th>\n",
              "      <td>-115.95</td>\n",
              "      <td>33.28</td>\n",
              "      <td>12.0</td>\n",
              "      <td>99.0</td>\n",
              "      <td>25.0</td>\n",
              "      <td>37.0</td>\n",
              "      <td>17.0</td>\n",
              "      <td>1.8958</td>\n",
              "      <td>53800.0</td>\n",
              "    </tr>\n",
              "    <tr>\n",
              "      <th>146</th>\n",
              "      <td>-116.18</td>\n",
              "      <td>33.69</td>\n",
              "      <td>17.0</td>\n",
              "      <td>89.0</td>\n",
              "      <td>19.0</td>\n",
              "      <td>79.0</td>\n",
              "      <td>21.0</td>\n",
              "      <td>2.3750</td>\n",
              "      <td>155000.0</td>\n",
              "    </tr>\n",
              "  </tbody>\n",
              "</table>\n",
              "</div>"
            ],
            "text/plain": [
              "     longitude  latitude  ...  median_income  median_house_value\n",
              "17     -114.65     32.79  ...         0.8571             25000.0\n",
              "19     -114.67     33.92  ...         1.2656             27500.0\n",
              "113    -115.80     33.26  ...         5.3374             47500.0\n",
              "121    -115.95     33.28  ...         1.8958             53800.0\n",
              "146    -116.18     33.69  ...         2.3750            155000.0\n",
              "\n",
              "[5 rows x 9 columns]"
            ]
          },
          "metadata": {
            "tags": []
          },
          "execution_count": 11
        }
      ]
    },
    {
      "cell_type": "code",
      "metadata": {
        "id": "3B7_XThNQfgQ",
        "colab": {
          "base_uri": "https://localhost:8080/",
          "height": 300
        },
        "outputId": "e40a2ff3-ccef-451f-9d95-c8baaa13d8b7"
      },
      "source": [
        "data.describe()"
      ],
      "execution_count": null,
      "outputs": [
        {
          "output_type": "execute_result",
          "data": {
            "text/html": [
              "<div>\n",
              "<style scoped>\n",
              "    .dataframe tbody tr th:only-of-type {\n",
              "        vertical-align: middle;\n",
              "    }\n",
              "\n",
              "    .dataframe tbody tr th {\n",
              "        vertical-align: top;\n",
              "    }\n",
              "\n",
              "    .dataframe thead th {\n",
              "        text-align: right;\n",
              "    }\n",
              "</style>\n",
              "<table border=\"1\" class=\"dataframe\">\n",
              "  <thead>\n",
              "    <tr style=\"text-align: right;\">\n",
              "      <th></th>\n",
              "      <th>longitude</th>\n",
              "      <th>latitude</th>\n",
              "      <th>housing_median_age</th>\n",
              "      <th>total_rooms</th>\n",
              "      <th>total_bedrooms</th>\n",
              "      <th>population</th>\n",
              "      <th>households</th>\n",
              "      <th>median_income</th>\n",
              "      <th>median_house_value</th>\n",
              "    </tr>\n",
              "  </thead>\n",
              "  <tbody>\n",
              "    <tr>\n",
              "      <th>count</th>\n",
              "      <td>17000.000000</td>\n",
              "      <td>17000.000000</td>\n",
              "      <td>17000.000000</td>\n",
              "      <td>17000.000000</td>\n",
              "      <td>17000.000000</td>\n",
              "      <td>17000.000000</td>\n",
              "      <td>17000.000000</td>\n",
              "      <td>17000.000000</td>\n",
              "      <td>17000.000000</td>\n",
              "    </tr>\n",
              "    <tr>\n",
              "      <th>mean</th>\n",
              "      <td>-119.562108</td>\n",
              "      <td>35.625225</td>\n",
              "      <td>28.589353</td>\n",
              "      <td>2643.664412</td>\n",
              "      <td>539.410824</td>\n",
              "      <td>1429.573941</td>\n",
              "      <td>501.221941</td>\n",
              "      <td>3.883578</td>\n",
              "      <td>207300.912353</td>\n",
              "    </tr>\n",
              "    <tr>\n",
              "      <th>std</th>\n",
              "      <td>2.005166</td>\n",
              "      <td>2.137340</td>\n",
              "      <td>12.586937</td>\n",
              "      <td>2179.947071</td>\n",
              "      <td>421.499452</td>\n",
              "      <td>1147.852959</td>\n",
              "      <td>384.520841</td>\n",
              "      <td>1.908157</td>\n",
              "      <td>115983.764387</td>\n",
              "    </tr>\n",
              "    <tr>\n",
              "      <th>min</th>\n",
              "      <td>-124.350000</td>\n",
              "      <td>32.540000</td>\n",
              "      <td>1.000000</td>\n",
              "      <td>2.000000</td>\n",
              "      <td>1.000000</td>\n",
              "      <td>3.000000</td>\n",
              "      <td>1.000000</td>\n",
              "      <td>0.499900</td>\n",
              "      <td>14999.000000</td>\n",
              "    </tr>\n",
              "    <tr>\n",
              "      <th>25%</th>\n",
              "      <td>-121.790000</td>\n",
              "      <td>33.930000</td>\n",
              "      <td>18.000000</td>\n",
              "      <td>1462.000000</td>\n",
              "      <td>297.000000</td>\n",
              "      <td>790.000000</td>\n",
              "      <td>282.000000</td>\n",
              "      <td>2.566375</td>\n",
              "      <td>119400.000000</td>\n",
              "    </tr>\n",
              "    <tr>\n",
              "      <th>50%</th>\n",
              "      <td>-118.490000</td>\n",
              "      <td>34.250000</td>\n",
              "      <td>29.000000</td>\n",
              "      <td>2127.000000</td>\n",
              "      <td>434.000000</td>\n",
              "      <td>1167.000000</td>\n",
              "      <td>409.000000</td>\n",
              "      <td>3.544600</td>\n",
              "      <td>180400.000000</td>\n",
              "    </tr>\n",
              "    <tr>\n",
              "      <th>75%</th>\n",
              "      <td>-118.000000</td>\n",
              "      <td>37.720000</td>\n",
              "      <td>37.000000</td>\n",
              "      <td>3151.250000</td>\n",
              "      <td>648.250000</td>\n",
              "      <td>1721.000000</td>\n",
              "      <td>605.250000</td>\n",
              "      <td>4.767000</td>\n",
              "      <td>265000.000000</td>\n",
              "    </tr>\n",
              "    <tr>\n",
              "      <th>max</th>\n",
              "      <td>-114.310000</td>\n",
              "      <td>41.950000</td>\n",
              "      <td>52.000000</td>\n",
              "      <td>37937.000000</td>\n",
              "      <td>6445.000000</td>\n",
              "      <td>35682.000000</td>\n",
              "      <td>6082.000000</td>\n",
              "      <td>15.000100</td>\n",
              "      <td>500001.000000</td>\n",
              "    </tr>\n",
              "  </tbody>\n",
              "</table>\n",
              "</div>"
            ],
            "text/plain": [
              "          longitude      latitude  ...  median_income  median_house_value\n",
              "count  17000.000000  17000.000000  ...   17000.000000        17000.000000\n",
              "mean    -119.562108     35.625225  ...       3.883578       207300.912353\n",
              "std        2.005166      2.137340  ...       1.908157       115983.764387\n",
              "min     -124.350000     32.540000  ...       0.499900        14999.000000\n",
              "25%     -121.790000     33.930000  ...       2.566375       119400.000000\n",
              "50%     -118.490000     34.250000  ...       3.544600       180400.000000\n",
              "75%     -118.000000     37.720000  ...       4.767000       265000.000000\n",
              "max     -114.310000     41.950000  ...      15.000100       500001.000000\n",
              "\n",
              "[8 rows x 9 columns]"
            ]
          },
          "metadata": {
            "tags": []
          },
          "execution_count": 12
        }
      ]
    },
    {
      "cell_type": "code",
      "metadata": {
        "id": "Wa4Thx-MQr5K",
        "colab": {
          "base_uri": "https://localhost:8080/",
          "height": 300
        },
        "outputId": "444257ac-4d4e-41bf-d60a-9ed2858c8b1c"
      },
      "source": [
        "data.describe()"
      ],
      "execution_count": null,
      "outputs": [
        {
          "output_type": "execute_result",
          "data": {
            "text/html": [
              "<div>\n",
              "<style scoped>\n",
              "    .dataframe tbody tr th:only-of-type {\n",
              "        vertical-align: middle;\n",
              "    }\n",
              "\n",
              "    .dataframe tbody tr th {\n",
              "        vertical-align: top;\n",
              "    }\n",
              "\n",
              "    .dataframe thead th {\n",
              "        text-align: right;\n",
              "    }\n",
              "</style>\n",
              "<table border=\"1\" class=\"dataframe\">\n",
              "  <thead>\n",
              "    <tr style=\"text-align: right;\">\n",
              "      <th></th>\n",
              "      <th>longitude</th>\n",
              "      <th>latitude</th>\n",
              "      <th>housing_median_age</th>\n",
              "      <th>total_rooms</th>\n",
              "      <th>total_bedrooms</th>\n",
              "      <th>population</th>\n",
              "      <th>households</th>\n",
              "      <th>median_income</th>\n",
              "      <th>median_house_value</th>\n",
              "    </tr>\n",
              "  </thead>\n",
              "  <tbody>\n",
              "    <tr>\n",
              "      <th>count</th>\n",
              "      <td>17000.000000</td>\n",
              "      <td>17000.000000</td>\n",
              "      <td>17000.000000</td>\n",
              "      <td>17000.000000</td>\n",
              "      <td>17000.000000</td>\n",
              "      <td>17000.000000</td>\n",
              "      <td>17000.000000</td>\n",
              "      <td>17000.000000</td>\n",
              "      <td>17000.000000</td>\n",
              "    </tr>\n",
              "    <tr>\n",
              "      <th>mean</th>\n",
              "      <td>-119.562108</td>\n",
              "      <td>35.625225</td>\n",
              "      <td>28.589353</td>\n",
              "      <td>2643.664412</td>\n",
              "      <td>539.410824</td>\n",
              "      <td>1429.573941</td>\n",
              "      <td>501.221941</td>\n",
              "      <td>3.883578</td>\n",
              "      <td>207300.912353</td>\n",
              "    </tr>\n",
              "    <tr>\n",
              "      <th>std</th>\n",
              "      <td>2.005166</td>\n",
              "      <td>2.137340</td>\n",
              "      <td>12.586937</td>\n",
              "      <td>2179.947071</td>\n",
              "      <td>421.499452</td>\n",
              "      <td>1147.852959</td>\n",
              "      <td>384.520841</td>\n",
              "      <td>1.908157</td>\n",
              "      <td>115983.764387</td>\n",
              "    </tr>\n",
              "    <tr>\n",
              "      <th>min</th>\n",
              "      <td>-124.350000</td>\n",
              "      <td>32.540000</td>\n",
              "      <td>1.000000</td>\n",
              "      <td>2.000000</td>\n",
              "      <td>1.000000</td>\n",
              "      <td>3.000000</td>\n",
              "      <td>1.000000</td>\n",
              "      <td>0.499900</td>\n",
              "      <td>14999.000000</td>\n",
              "    </tr>\n",
              "    <tr>\n",
              "      <th>25%</th>\n",
              "      <td>-121.790000</td>\n",
              "      <td>33.930000</td>\n",
              "      <td>18.000000</td>\n",
              "      <td>1462.000000</td>\n",
              "      <td>297.000000</td>\n",
              "      <td>790.000000</td>\n",
              "      <td>282.000000</td>\n",
              "      <td>2.566375</td>\n",
              "      <td>119400.000000</td>\n",
              "    </tr>\n",
              "    <tr>\n",
              "      <th>50%</th>\n",
              "      <td>-118.490000</td>\n",
              "      <td>34.250000</td>\n",
              "      <td>29.000000</td>\n",
              "      <td>2127.000000</td>\n",
              "      <td>434.000000</td>\n",
              "      <td>1167.000000</td>\n",
              "      <td>409.000000</td>\n",
              "      <td>3.544600</td>\n",
              "      <td>180400.000000</td>\n",
              "    </tr>\n",
              "    <tr>\n",
              "      <th>75%</th>\n",
              "      <td>-118.000000</td>\n",
              "      <td>37.720000</td>\n",
              "      <td>37.000000</td>\n",
              "      <td>3151.250000</td>\n",
              "      <td>648.250000</td>\n",
              "      <td>1721.000000</td>\n",
              "      <td>605.250000</td>\n",
              "      <td>4.767000</td>\n",
              "      <td>265000.000000</td>\n",
              "    </tr>\n",
              "    <tr>\n",
              "      <th>max</th>\n",
              "      <td>-114.310000</td>\n",
              "      <td>41.950000</td>\n",
              "      <td>52.000000</td>\n",
              "      <td>37937.000000</td>\n",
              "      <td>6445.000000</td>\n",
              "      <td>35682.000000</td>\n",
              "      <td>6082.000000</td>\n",
              "      <td>15.000100</td>\n",
              "      <td>500001.000000</td>\n",
              "    </tr>\n",
              "  </tbody>\n",
              "</table>\n",
              "</div>"
            ],
            "text/plain": [
              "          longitude      latitude  ...  median_income  median_house_value\n",
              "count  17000.000000  17000.000000  ...   17000.000000        17000.000000\n",
              "mean    -119.562108     35.625225  ...       3.883578       207300.912353\n",
              "std        2.005166      2.137340  ...       1.908157       115983.764387\n",
              "min     -124.350000     32.540000  ...       0.499900        14999.000000\n",
              "25%     -121.790000     33.930000  ...       2.566375       119400.000000\n",
              "50%     -118.490000     34.250000  ...       3.544600       180400.000000\n",
              "75%     -118.000000     37.720000  ...       4.767000       265000.000000\n",
              "max     -114.310000     41.950000  ...      15.000100       500001.000000\n",
              "\n",
              "[8 rows x 9 columns]"
            ]
          },
          "metadata": {
            "tags": []
          },
          "execution_count": 14
        }
      ]
    },
    {
      "cell_type": "code",
      "metadata": {
        "id": "UFMKx0SaRCGt",
        "colab": {
          "base_uri": "https://localhost:8080/",
          "height": 284
        },
        "outputId": "b3944635-f0db-4a6b-d530-3cc2ec438163"
      },
      "source": [
        "data['total_bedrooms'].hist(bins=10)"
      ],
      "execution_count": null,
      "outputs": [
        {
          "output_type": "execute_result",
          "data": {
            "text/plain": [
              "<matplotlib.axes._subplots.AxesSubplot at 0x7f6b36fc5d68>"
            ]
          },
          "metadata": {
            "tags": []
          },
          "execution_count": 15
        },
        {
          "output_type": "display_data",
          "data": {
            "image/png": "[encoded data removed]",
            "text/plain": [
              "<Figure size 432x288 with 1 Axes>"
            ]
          },
          "metadata": {
            "tags": [],
            "needs_background": "light"
          }
        }
      ]
    },
    {
      "cell_type": "code",
      "metadata": {
        "id": "fkOqAhz9Rm-B",
        "colab": {
          "base_uri": "https://localhost:8080/",
          "height": 299
        },
        "outputId": "6ca8afa1-edf4-4653-93e3-6af11d6f3779"
      },
      "source": [
        "data.plot(kind='scatter', x='total_rooms', y='median_income')"
      ],
      "execution_count": null,
      "outputs": [
        {
          "output_type": "execute_result",
          "data": {
            "text/plain": [
              "<matplotlib.axes._subplots.AxesSubplot at 0x7f6b34032400>"
            ]
          },
          "metadata": {
            "tags": []
          },
          "execution_count": 22
        },
        {
          "output_type": "display_data",
          "data": {
            "image/png": "[encoded data removed]",
            "text/plain": [
              "<Figure size 432x288 with 1 Axes>"
            ]
          },
          "metadata": {
            "tags": [],
            "needs_background": "light"
          }
        }
      ]
    },
    {
      "cell_type": "code",
      "metadata": {
        "id": "xtM2OyZtRz52",
        "colab": {
          "base_uri": "https://localhost:8080/",
          "height": 300
        },
        "outputId": "4b2e2c9e-3c1f-4360-d024-0174917bce6e"
      },
      "source": [
        "summary = data.describe()\n",
        "summary"
      ],
      "execution_count": null,
      "outputs": [
        {
          "output_type": "execute_result",
          "data": {
            "text/html": [
              "<div>\n",
              "<style scoped>\n",
              "    .dataframe tbody tr th:only-of-type {\n",
              "        vertical-align: middle;\n",
              "    }\n",
              "\n",
              "    .dataframe tbody tr th {\n",
              "        vertical-align: top;\n",
              "    }\n",
              "\n",
              "    .dataframe thead th {\n",
              "        text-align: right;\n",
              "    }\n",
              "</style>\n",
              "<table border=\"1\" class=\"dataframe\">\n",
              "  <thead>\n",
              "    <tr style=\"text-align: right;\">\n",
              "      <th></th>\n",
              "      <th>longitude</th>\n",
              "      <th>latitude</th>\n",
              "      <th>housing_median_age</th>\n",
              "      <th>total_rooms</th>\n",
              "      <th>total_bedrooms</th>\n",
              "      <th>population</th>\n",
              "      <th>households</th>\n",
              "      <th>median_income</th>\n",
              "      <th>median_house_value</th>\n",
              "    </tr>\n",
              "  </thead>\n",
              "  <tbody>\n",
              "    <tr>\n",
              "      <th>count</th>\n",
              "      <td>17000.000000</td>\n",
              "      <td>17000.000000</td>\n",
              "      <td>17000.000000</td>\n",
              "      <td>17000.000000</td>\n",
              "      <td>17000.000000</td>\n",
              "      <td>17000.000000</td>\n",
              "      <td>17000.000000</td>\n",
              "      <td>17000.000000</td>\n",
              "      <td>17000.000000</td>\n",
              "    </tr>\n",
              "    <tr>\n",
              "      <th>mean</th>\n",
              "      <td>-119.562108</td>\n",
              "      <td>35.625225</td>\n",
              "      <td>28.589353</td>\n",
              "      <td>2643.664412</td>\n",
              "      <td>539.410824</td>\n",
              "      <td>1429.573941</td>\n",
              "      <td>501.221941</td>\n",
              "      <td>3.883578</td>\n",
              "      <td>207300.912353</td>\n",
              "    </tr>\n",
              "    <tr>\n",
              "      <th>std</th>\n",
              "      <td>2.005166</td>\n",
              "      <td>2.137340</td>\n",
              "      <td>12.586937</td>\n",
              "      <td>2179.947071</td>\n",
              "      <td>421.499452</td>\n",
              "      <td>1147.852959</td>\n",
              "      <td>384.520841</td>\n",
              "      <td>1.908157</td>\n",
              "      <td>115983.764387</td>\n",
              "    </tr>\n",
              "    <tr>\n",
              "      <th>min</th>\n",
              "      <td>-124.350000</td>\n",
              "      <td>32.540000</td>\n",
              "      <td>1.000000</td>\n",
              "      <td>2.000000</td>\n",
              "      <td>1.000000</td>\n",
              "      <td>3.000000</td>\n",
              "      <td>1.000000</td>\n",
              "      <td>0.499900</td>\n",
              "      <td>14999.000000</td>\n",
              "    </tr>\n",
              "    <tr>\n",
              "      <th>25%</th>\n",
              "      <td>-121.790000</td>\n",
              "      <td>33.930000</td>\n",
              "      <td>18.000000</td>\n",
              "      <td>1462.000000</td>\n",
              "      <td>297.000000</td>\n",
              "      <td>790.000000</td>\n",
              "      <td>282.000000</td>\n",
              "      <td>2.566375</td>\n",
              "      <td>119400.000000</td>\n",
              "    </tr>\n",
              "    <tr>\n",
              "      <th>50%</th>\n",
              "      <td>-118.490000</td>\n",
              "      <td>34.250000</td>\n",
              "      <td>29.000000</td>\n",
              "      <td>2127.000000</td>\n",
              "      <td>434.000000</td>\n",
              "      <td>1167.000000</td>\n",
              "      <td>409.000000</td>\n",
              "      <td>3.544600</td>\n",
              "      <td>180400.000000</td>\n",
              "    </tr>\n",
              "    <tr>\n",
              "      <th>75%</th>\n",
              "      <td>-118.000000</td>\n",
              "      <td>37.720000</td>\n",
              "      <td>37.000000</td>\n",
              "      <td>3151.250000</td>\n",
              "      <td>648.250000</td>\n",
              "      <td>1721.000000</td>\n",
              "      <td>605.250000</td>\n",
              "      <td>4.767000</td>\n",
              "      <td>265000.000000</td>\n",
              "    </tr>\n",
              "    <tr>\n",
              "      <th>max</th>\n",
              "      <td>-114.310000</td>\n",
              "      <td>41.950000</td>\n",
              "      <td>52.000000</td>\n",
              "      <td>37937.000000</td>\n",
              "      <td>6445.000000</td>\n",
              "      <td>35682.000000</td>\n",
              "      <td>6082.000000</td>\n",
              "      <td>15.000100</td>\n",
              "      <td>500001.000000</td>\n",
              "    </tr>\n",
              "  </tbody>\n",
              "</table>\n",
              "</div>"
            ],
            "text/plain": [
              "          longitude      latitude  ...  median_income  median_house_value\n",
              "count  17000.000000  17000.000000  ...   17000.000000        17000.000000\n",
              "mean    -119.562108     35.625225  ...       3.883578       207300.912353\n",
              "std        2.005166      2.137340  ...       1.908157       115983.764387\n",
              "min     -124.350000     32.540000  ...       0.499900        14999.000000\n",
              "25%     -121.790000     33.930000  ...       2.566375       119400.000000\n",
              "50%     -118.490000     34.250000  ...       3.544600       180400.000000\n",
              "75%     -118.000000     37.720000  ...       4.767000       265000.000000\n",
              "max     -114.310000     41.950000  ...      15.000100       500001.000000\n",
              "\n",
              "[8 rows x 9 columns]"
            ]
          },
          "metadata": {
            "tags": []
          },
          "execution_count": 24
        }
      ]
    },
    {
      "cell_type": "code",
      "metadata": {
        "id": "h7im1tukT35i",
        "colab": {
          "base_uri": "https://localhost:8080/",
          "height": 36
        },
        "outputId": "6e811ecb-3b38-4629-b00e-b5f3bed7afc1"
      },
      "source": [
        "summary['total_rooms']['mean']"
      ],
      "execution_count": null,
      "outputs": [
        {
          "output_type": "execute_result",
          "data": {
            "text/plain": [
              "2643.664411764706"
            ]
          },
          "metadata": {
            "tags": []
          },
          "execution_count": 25
        }
      ]
    },
    {
      "cell_type": "code",
      "metadata": {
        "id": "dsxeZRdsT_Gj"
      },
      "source": [
        ""
      ],
      "execution_count": null,
      "outputs": []
    }
  ]
}